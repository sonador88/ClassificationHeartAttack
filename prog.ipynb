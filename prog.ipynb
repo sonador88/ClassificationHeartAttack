{
 "cells": [
  {
   "cell_type": "markdown",
   "id": "015274cf",
   "metadata": {},
   "source": [
    "# Описание задачи"
   ]
  },
  {
   "cell_type": "markdown",
   "id": "81b7e0a4",
   "metadata": {},
   "source": [
    "Данная задача на бинарную классификацию.\n",
    "\n",
    "**Цель:**\n",
    "В данной задаче нам нужно предсказать подвержен пациент сердечному приступу или нет.\n",
    "\n",
    "\n",
    "Задача взята с соревновательной платформы kaggle: https://www.kaggle.com/datasets/nareshbhat/health-care-data-set-on-heart-attack-possibility\n",
    "\n",
    "**Имеющиеся данные:**\n",
    "+ age - возраст\n",
    "+ sex - пол (1 = муж; 0 = жен)\n",
    "+ cp - тип боли в груди\n",
    "+ trestbps - кровяное давление в состоянии покоя\n",
    "+ chol - сыворочный холесторал в mg/dl\n",
    "+ fbs > 120 mg/dl - уровень сазара в крови натощак\n",
    "+ restecg  - результаты электрокардиографии в состоянии покоя (значения 0,1,2)\n",
    "+ thalach - максимальная частота сердечных сокращений\n",
    "+ exang - стенокардия, вызванная физической нагрузкой\n",
    "+ oldpeak = ST depression induced by exercise relative to rest\n",
    "+ slope - the slope of the peak exercise ST segment\n",
    "+ ca - number of major vessels (0-3) colored by flourosopy\n",
    "+ thal: 0 = normal; 1 = fixed defect; 2 = reversable defect\n",
    "+ target - целевая : 0 - шансы приступа малы, 1 - шансы приступа велики"
   ]
  },
  {
   "cell_type": "markdown",
   "id": "fd93cca8",
   "metadata": {},
   "source": [
    "# Начало работы"
   ]
  },
  {
   "cell_type": "markdown",
   "id": "886c2ea7",
   "metadata": {},
   "source": [
    "## Подключение библиотек"
   ]
  },
  {
   "cell_type": "code",
   "execution_count": 284,
   "id": "0c21663d",
   "metadata": {},
   "outputs": [],
   "source": [
    "import numpy as np # linear algebra\n",
    "import pandas as pd # data processing, CSV file I/O (e.g. pd.read_csv)\n",
    "import matplotlib.pyplot as plt\n",
    "import seaborn as sns\n",
    "\n",
    "import time\n",
    "from math import ceil\n",
    "\n",
    "from sklearn.preprocessing import StandardScaler\n",
    "\n",
    "from scipy.stats import chisquare, chi2_contingency, ttest_ind, probplot\n",
    "\n",
    "from sklearn.preprocessing import StandardScaler\n",
    "\n",
    "from sklearn.model_selection import train_test_split, GridSearchCV, StratifiedKFold\n",
    "\n",
    "from sklearn.svm import SVC\n",
    "from sklearn.ensemble import RandomForestClassifier\n",
    "from sklearn.linear_model import LogisticRegression\n",
    "\n",
    "from sklearn.metrics import accuracy_score, f1_score, confusion_matrix, classification_report, make_scorer\n",
    "\n",
    "%matplotlib inline\n",
    "sns.set(rc={\"figure.figsize\": (20, 20)})\n",
    "sns.set_style(\"whitegrid\")"
   ]
  },
  {
   "cell_type": "markdown",
   "id": "78581417",
   "metadata": {},
   "source": [
    "## Функции и переменные\n",
    "\n"
   ]
  },
  {
   "cell_type": "code",
   "execution_count": 285,
   "id": "489db811",
   "metadata": {},
   "outputs": [],
   "source": [
    "RANDOM_STATE = 100\n",
    "SPLIT_TEST_SIZE = 0.2 # размер тестовой выборки\n",
    "NUM_SPLIT_FOR_GRID = 5 #на сколько частей будет разбиваться выборка при подборе параметров\n",
    "TRESHOLD_FOR_CORR = 0.1 #порог значения корреляции, ниже которого будем отбрасывать признаки\n",
    "TRESHOLD_FOR_HIGH_CORR = 0.6 #при этом пороге корреляции будем тщательнее исследовать на предмет выбросов\n",
    "TRESHOLD_FOR_HIGH_CORR_BETWEEN_FEATURE = 0.8 #если корреляция выше - удаляемм один из коррелируемых признаков \n",
    "COLOR_PLOT = 'deepskyblue'\n",
    "\n",
    "def add_into_list(list_el, new_el):\n",
    "    \"\"\"\n",
    "    Функция добавления списка элементов в массив\n",
    "    \"\"\"\n",
    "    if np.isin(new_el, list_el).sum() == 0:\n",
    "        return np.append(list_el, new_el)\n",
    "    else:\n",
    "        return list_el\n",
    "    \n",
    "def del_from_list(list_el, new_el):\n",
    "    \"\"\"\n",
    "    Функция удаления элементов из массива\n",
    "    \"\"\"\n",
    "    if np.isin(new_el, list_el).sum():\n",
    "        return np.setdiff1d(list_el, new_el)\n",
    "    else:\n",
    "        return list_el\n",
    "    \n",
    "def ksi(data, X, Y):\n",
    "    for i, j in zip(X, Y):\n",
    "\n",
    "        CrosstabResult = pd.crosstab(index=data[i], columns=data[j])\n",
    "        \n",
    "        ChiSqResult = chi2_contingency(CrosstabResult)\n",
    "        print(f\"P-Value χ² теста между группами {i} и {j} = {ChiSqResult[1]}\\n\")"
   ]
  },
  {
   "cell_type": "markdown",
   "id": "146cde9d",
   "metadata": {},
   "source": [
    "## Загрузка данных"
   ]
  },
  {
   "cell_type": "code",
   "execution_count": 286,
   "id": "f91f3972",
   "metadata": {},
   "outputs": [
    {
     "data": {
      "text/html": [
       "<div>\n",
       "<style scoped>\n",
       "    .dataframe tbody tr th:only-of-type {\n",
       "        vertical-align: middle;\n",
       "    }\n",
       "\n",
       "    .dataframe tbody tr th {\n",
       "        vertical-align: top;\n",
       "    }\n",
       "\n",
       "    .dataframe thead th {\n",
       "        text-align: right;\n",
       "    }\n",
       "</style>\n",
       "<table border=\"1\" class=\"dataframe\">\n",
       "  <thead>\n",
       "    <tr style=\"text-align: right;\">\n",
       "      <th></th>\n",
       "      <th>age</th>\n",
       "      <th>sex</th>\n",
       "      <th>cp</th>\n",
       "      <th>trestbps</th>\n",
       "      <th>chol</th>\n",
       "      <th>fbs</th>\n",
       "      <th>restecg</th>\n",
       "      <th>thalach</th>\n",
       "      <th>exang</th>\n",
       "      <th>oldpeak</th>\n",
       "      <th>slope</th>\n",
       "      <th>ca</th>\n",
       "      <th>thal</th>\n",
       "      <th>target</th>\n",
       "    </tr>\n",
       "  </thead>\n",
       "  <tbody>\n",
       "    <tr>\n",
       "      <th>0</th>\n",
       "      <td>63</td>\n",
       "      <td>1</td>\n",
       "      <td>3</td>\n",
       "      <td>145</td>\n",
       "      <td>233</td>\n",
       "      <td>1</td>\n",
       "      <td>0</td>\n",
       "      <td>150</td>\n",
       "      <td>0</td>\n",
       "      <td>2.3</td>\n",
       "      <td>0</td>\n",
       "      <td>0</td>\n",
       "      <td>1</td>\n",
       "      <td>1</td>\n",
       "    </tr>\n",
       "    <tr>\n",
       "      <th>1</th>\n",
       "      <td>37</td>\n",
       "      <td>1</td>\n",
       "      <td>2</td>\n",
       "      <td>130</td>\n",
       "      <td>250</td>\n",
       "      <td>0</td>\n",
       "      <td>1</td>\n",
       "      <td>187</td>\n",
       "      <td>0</td>\n",
       "      <td>3.5</td>\n",
       "      <td>0</td>\n",
       "      <td>0</td>\n",
       "      <td>2</td>\n",
       "      <td>1</td>\n",
       "    </tr>\n",
       "    <tr>\n",
       "      <th>2</th>\n",
       "      <td>41</td>\n",
       "      <td>0</td>\n",
       "      <td>1</td>\n",
       "      <td>130</td>\n",
       "      <td>204</td>\n",
       "      <td>0</td>\n",
       "      <td>0</td>\n",
       "      <td>172</td>\n",
       "      <td>0</td>\n",
       "      <td>1.4</td>\n",
       "      <td>2</td>\n",
       "      <td>0</td>\n",
       "      <td>2</td>\n",
       "      <td>1</td>\n",
       "    </tr>\n",
       "    <tr>\n",
       "      <th>3</th>\n",
       "      <td>56</td>\n",
       "      <td>1</td>\n",
       "      <td>1</td>\n",
       "      <td>120</td>\n",
       "      <td>236</td>\n",
       "      <td>0</td>\n",
       "      <td>1</td>\n",
       "      <td>178</td>\n",
       "      <td>0</td>\n",
       "      <td>0.8</td>\n",
       "      <td>2</td>\n",
       "      <td>0</td>\n",
       "      <td>2</td>\n",
       "      <td>1</td>\n",
       "    </tr>\n",
       "    <tr>\n",
       "      <th>4</th>\n",
       "      <td>57</td>\n",
       "      <td>0</td>\n",
       "      <td>0</td>\n",
       "      <td>120</td>\n",
       "      <td>354</td>\n",
       "      <td>0</td>\n",
       "      <td>1</td>\n",
       "      <td>163</td>\n",
       "      <td>1</td>\n",
       "      <td>0.6</td>\n",
       "      <td>2</td>\n",
       "      <td>0</td>\n",
       "      <td>2</td>\n",
       "      <td>1</td>\n",
       "    </tr>\n",
       "  </tbody>\n",
       "</table>\n",
       "</div>"
      ],
      "text/plain": [
       "   age  sex  cp  trestbps  chol  fbs  restecg  thalach  exang  oldpeak  slope  \\\n",
       "0   63    1   3       145   233    1        0      150      0      2.3      0   \n",
       "1   37    1   2       130   250    0        1      187      0      3.5      0   \n",
       "2   41    0   1       130   204    0        0      172      0      1.4      2   \n",
       "3   56    1   1       120   236    0        1      178      0      0.8      2   \n",
       "4   57    0   0       120   354    0        1      163      1      0.6      2   \n",
       "\n",
       "   ca  thal  target  \n",
       "0   0     1       1  \n",
       "1   0     2       1  \n",
       "2   0     2       1  \n",
       "3   0     2       1  \n",
       "4   0     2       1  "
      ]
     },
     "execution_count": 286,
     "metadata": {},
     "output_type": "execute_result"
    }
   ],
   "source": [
    "data = pd.read_csv('data/heart.csv')\n",
    "data.head()"
   ]
  },
  {
   "cell_type": "markdown",
   "id": "fd3193b0",
   "metadata": {},
   "source": [
    "## Основная информация о данных"
   ]
  },
  {
   "cell_type": "code",
   "execution_count": 287,
   "id": "043e584b",
   "metadata": {},
   "outputs": [
    {
     "name": "stdout",
     "output_type": "stream",
     "text": [
      "Форма тренировочной выборки: (303, 14)\n"
     ]
    }
   ],
   "source": [
    "print('Форма тренировочной выборки: ' + str(data.shape))"
   ]
  },
  {
   "cell_type": "code",
   "execution_count": 288,
   "id": "2698a74e",
   "metadata": {},
   "outputs": [
    {
     "name": "stdout",
     "output_type": "stream",
     "text": [
      "<class 'pandas.core.frame.DataFrame'>\n",
      "RangeIndex: 303 entries, 0 to 302\n",
      "Data columns (total 14 columns):\n",
      " #   Column    Non-Null Count  Dtype  \n",
      "---  ------    --------------  -----  \n",
      " 0   age       303 non-null    int64  \n",
      " 1   sex       303 non-null    int64  \n",
      " 2   cp        303 non-null    int64  \n",
      " 3   trestbps  303 non-null    int64  \n",
      " 4   chol      303 non-null    int64  \n",
      " 5   fbs       303 non-null    int64  \n",
      " 6   restecg   303 non-null    int64  \n",
      " 7   thalach   303 non-null    int64  \n",
      " 8   exang     303 non-null    int64  \n",
      " 9   oldpeak   303 non-null    float64\n",
      " 10  slope     303 non-null    int64  \n",
      " 11  ca        303 non-null    int64  \n",
      " 12  thal      303 non-null    int64  \n",
      " 13  target    303 non-null    int64  \n",
      "dtypes: float64(1), int64(13)\n",
      "memory usage: 33.3 KB\n"
     ]
    }
   ],
   "source": [
    "data.info()"
   ]
  },
  {
   "cell_type": "markdown",
   "id": "26328892",
   "metadata": {},
   "source": [
    "Типы соответствуют, пропущенных значений нет, категориальные признаки: sex, cp, fbs, restecg, exang, slope, ca, thal"
   ]
  },
  {
   "cell_type": "markdown",
   "id": "137080f7",
   "metadata": {},
   "source": [
    "## Проверка на дубликаты"
   ]
  },
  {
   "cell_type": "code",
   "execution_count": 289,
   "id": "14c0e27c",
   "metadata": {},
   "outputs": [
    {
     "name": "stdout",
     "output_type": "stream",
     "text": [
      "Дубликаты в выборке: 1 (0.33%)\n"
     ]
    }
   ],
   "source": [
    "print(f'Дубликаты в выборке: {data.duplicated().sum()} ({np.round(100*data.duplicated().sum()/data.shape[0],2)}%)')"
   ]
  },
  {
   "cell_type": "code",
   "execution_count": 290,
   "id": "f86c3174",
   "metadata": {},
   "outputs": [
    {
     "data": {
      "text/html": [
       "<div>\n",
       "<style scoped>\n",
       "    .dataframe tbody tr th:only-of-type {\n",
       "        vertical-align: middle;\n",
       "    }\n",
       "\n",
       "    .dataframe tbody tr th {\n",
       "        vertical-align: top;\n",
       "    }\n",
       "\n",
       "    .dataframe thead th {\n",
       "        text-align: right;\n",
       "    }\n",
       "</style>\n",
       "<table border=\"1\" class=\"dataframe\">\n",
       "  <thead>\n",
       "    <tr style=\"text-align: right;\">\n",
       "      <th></th>\n",
       "      <th>age</th>\n",
       "      <th>sex</th>\n",
       "      <th>cp</th>\n",
       "      <th>trestbps</th>\n",
       "      <th>chol</th>\n",
       "      <th>fbs</th>\n",
       "      <th>restecg</th>\n",
       "      <th>thalach</th>\n",
       "      <th>exang</th>\n",
       "      <th>oldpeak</th>\n",
       "      <th>slope</th>\n",
       "      <th>ca</th>\n",
       "      <th>thal</th>\n",
       "      <th>target</th>\n",
       "    </tr>\n",
       "  </thead>\n",
       "  <tbody>\n",
       "    <tr>\n",
       "      <th>164</th>\n",
       "      <td>38</td>\n",
       "      <td>1</td>\n",
       "      <td>2</td>\n",
       "      <td>138</td>\n",
       "      <td>175</td>\n",
       "      <td>0</td>\n",
       "      <td>1</td>\n",
       "      <td>173</td>\n",
       "      <td>0</td>\n",
       "      <td>0.0</td>\n",
       "      <td>2</td>\n",
       "      <td>4</td>\n",
       "      <td>2</td>\n",
       "      <td>1</td>\n",
       "    </tr>\n",
       "  </tbody>\n",
       "</table>\n",
       "</div>"
      ],
      "text/plain": [
       "     age  sex  cp  trestbps  chol  fbs  restecg  thalach  exang  oldpeak  \\\n",
       "164   38    1   2       138   175    0        1      173      0      0.0   \n",
       "\n",
       "     slope  ca  thal  target  \n",
       "164      2   4     2       1  "
      ]
     },
     "execution_count": 290,
     "metadata": {},
     "output_type": "execute_result"
    }
   ],
   "source": [
    "dupl = data[data.duplicated()]\n",
    "dupl"
   ]
  },
  {
   "cell_type": "code",
   "execution_count": 291,
   "id": "c0461f1c",
   "metadata": {},
   "outputs": [
    {
     "data": {
      "text/html": [
       "<div>\n",
       "<style scoped>\n",
       "    .dataframe tbody tr th:only-of-type {\n",
       "        vertical-align: middle;\n",
       "    }\n",
       "\n",
       "    .dataframe tbody tr th {\n",
       "        vertical-align: top;\n",
       "    }\n",
       "\n",
       "    .dataframe thead th {\n",
       "        text-align: right;\n",
       "    }\n",
       "</style>\n",
       "<table border=\"1\" class=\"dataframe\">\n",
       "  <thead>\n",
       "    <tr style=\"text-align: right;\">\n",
       "      <th></th>\n",
       "      <th>age</th>\n",
       "      <th>sex</th>\n",
       "      <th>cp</th>\n",
       "      <th>trestbps</th>\n",
       "      <th>chol</th>\n",
       "      <th>fbs</th>\n",
       "      <th>restecg</th>\n",
       "      <th>thalach</th>\n",
       "      <th>exang</th>\n",
       "      <th>oldpeak</th>\n",
       "      <th>slope</th>\n",
       "      <th>ca</th>\n",
       "      <th>thal</th>\n",
       "      <th>target</th>\n",
       "    </tr>\n",
       "  </thead>\n",
       "  <tbody>\n",
       "    <tr>\n",
       "      <th>163</th>\n",
       "      <td>38</td>\n",
       "      <td>1</td>\n",
       "      <td>2</td>\n",
       "      <td>138</td>\n",
       "      <td>175</td>\n",
       "      <td>0</td>\n",
       "      <td>1</td>\n",
       "      <td>173</td>\n",
       "      <td>0</td>\n",
       "      <td>0.0</td>\n",
       "      <td>2</td>\n",
       "      <td>4</td>\n",
       "      <td>2</td>\n",
       "      <td>1</td>\n",
       "    </tr>\n",
       "    <tr>\n",
       "      <th>164</th>\n",
       "      <td>38</td>\n",
       "      <td>1</td>\n",
       "      <td>2</td>\n",
       "      <td>138</td>\n",
       "      <td>175</td>\n",
       "      <td>0</td>\n",
       "      <td>1</td>\n",
       "      <td>173</td>\n",
       "      <td>0</td>\n",
       "      <td>0.0</td>\n",
       "      <td>2</td>\n",
       "      <td>4</td>\n",
       "      <td>2</td>\n",
       "      <td>1</td>\n",
       "    </tr>\n",
       "  </tbody>\n",
       "</table>\n",
       "</div>"
      ],
      "text/plain": [
       "     age  sex  cp  trestbps  chol  fbs  restecg  thalach  exang  oldpeak  \\\n",
       "163   38    1   2       138   175    0        1      173      0      0.0   \n",
       "164   38    1   2       138   175    0        1      173      0      0.0   \n",
       "\n",
       "     slope  ca  thal  target  \n",
       "163      2   4     2       1  \n",
       "164      2   4     2       1  "
      ]
     },
     "execution_count": 291,
     "metadata": {},
     "output_type": "execute_result"
    }
   ],
   "source": [
    "data[data.duplicated(keep=False)]"
   ]
  },
  {
   "cell_type": "markdown",
   "id": "5aa073dd",
   "metadata": {},
   "source": [
    "Похоже, что ошибочно внесли две подряд записи (id идут подряд) - удалим дубли"
   ]
  },
  {
   "cell_type": "code",
   "execution_count": 292,
   "id": "9c792c04",
   "metadata": {},
   "outputs": [],
   "source": [
    "data.drop_duplicates(inplace=True)"
   ]
  },
  {
   "cell_type": "markdown",
   "id": "7da96566",
   "metadata": {},
   "source": [
    "# Анализ целевой переменной"
   ]
  },
  {
   "cell_type": "markdown",
   "id": "c351c6ac",
   "metadata": {},
   "source": [
    "Здесь мы рассмотрим на сколько сбалансированы наши классы целевой переменной"
   ]
  },
  {
   "cell_type": "code",
   "execution_count": 293,
   "id": "58b1f9f7",
   "metadata": {},
   "outputs": [
    {
     "data": {
      "text/plain": [
       "1    164\n",
       "0    138\n",
       "Name: target, dtype: int64"
      ]
     },
     "execution_count": 293,
     "metadata": {},
     "output_type": "execute_result"
    }
   ],
   "source": [
    "val_counts = data.target.value_counts()\n",
    "val_counts"
   ]
  },
  {
   "cell_type": "code",
   "execution_count": 294,
   "id": "6093a2b6",
   "metadata": {},
   "outputs": [
    {
     "data": {
      "text/plain": [
       "164"
      ]
     },
     "execution_count": 294,
     "metadata": {},
     "output_type": "execute_result"
    }
   ],
   "source": [
    "predispos = data[data.target == 1].shape[0]\n",
    "predispos"
   ]
  },
  {
   "cell_type": "code",
   "execution_count": 295,
   "id": "d1909701",
   "metadata": {},
   "outputs": [
    {
     "data": {
      "text/plain": [
       "138"
      ]
     },
     "execution_count": 295,
     "metadata": {},
     "output_type": "execute_result"
    }
   ],
   "source": [
    "not_predispos = data.shape[0] - predispos\n",
    "not_predispos"
   ]
  },
  {
   "cell_type": "markdown",
   "id": "e25e7094",
   "metadata": {},
   "source": [
    "Воспользуемся χ² для оценки равномерности распределения классов"
   ]
  },
  {
   "cell_type": "code",
   "execution_count": 296,
   "id": "8264d7cf",
   "metadata": {},
   "outputs": [
    {
     "name": "stdout",
     "output_type": "stream",
     "text": [
      "P-Value χ² теста между группами  = 0.1346192922452585\n",
      "\n"
     ]
    }
   ],
   "source": [
    "ChiSqResult = chisquare([predispos, not_predispos])\n",
    "print( f\"P-Value χ² теста между группами  = {ChiSqResult[1]}\\n\")"
   ]
  },
  {
   "cell_type": "markdown",
   "id": "805b53f8",
   "metadata": {},
   "source": [
    "p-value < 0.05, поэтому гипотеза нулевая о равномерности выборок не отвергается"
   ]
  },
  {
   "cell_type": "code",
   "execution_count": 297,
   "id": "d4d02351",
   "metadata": {},
   "outputs": [
    {
     "data": {
      "text/plain": [
       "Text(0.5, 1.0, 'Распределение целевой переменной')"
      ]
     },
     "execution_count": 297,
     "metadata": {},
     "output_type": "execute_result"
    },
    {
     "data": {
      "image/png": "[encoded data removed]",
      "text/plain": [
       "<Figure size 504x504 with 1 Axes>"
      ]
     },
     "metadata": {},
     "output_type": "display_data"
    }
   ],
   "source": [
    "plt.figure(figsize=(7,7))\n",
    "data.target.value_counts().plot.pie(explode=[0.1,0.001], autopct='%1.1f%%', shadow=True, textprops={'fontsize':16}).\\\n",
    "    set_title('Распределение целевой переменной', fontsize=20)"
   ]
  },
  {
   "cell_type": "markdown",
   "id": "c9ba776d",
   "metadata": {},
   "source": [
    "Визуально некоторый дисбаланс виднеется, поэтому использовать будем только метрики f score (не accuracy) + стратифицировання валидация"
   ]
  },
  {
   "cell_type": "markdown",
   "id": "21559465",
   "metadata": {},
   "source": [
    "# Типы данных"
   ]
  },
  {
   "cell_type": "code",
   "execution_count": 298,
   "id": "e6a622d0",
   "metadata": {},
   "outputs": [
    {
     "data": {
      "text/plain": [
       "int64      13\n",
       "float64     1\n",
       "dtype: int64"
      ]
     },
     "execution_count": 298,
     "metadata": {},
     "output_type": "execute_result"
    }
   ],
   "source": [
    "data.dtypes.value_counts()"
   ]
  },
  {
   "cell_type": "markdown",
   "id": "bf5736f3",
   "metadata": {},
   "source": [
    "у нас только числовые признаки, посмотрим на количество разных значений каждого признака, чтоб определиться с категориальными и количественными признаками"
   ]
  },
  {
   "cell_type": "code",
   "execution_count": 299,
   "id": "d5fb9592",
   "metadata": {},
   "outputs": [
    {
     "data": {
      "text/html": [
       "<div>\n",
       "<style scoped>\n",
       "    .dataframe tbody tr th:only-of-type {\n",
       "        vertical-align: middle;\n",
       "    }\n",
       "\n",
       "    .dataframe tbody tr th {\n",
       "        vertical-align: top;\n",
       "    }\n",
       "\n",
       "    .dataframe thead th {\n",
       "        text-align: right;\n",
       "    }\n",
       "</style>\n",
       "<table border=\"1\" class=\"dataframe\">\n",
       "  <thead>\n",
       "    <tr style=\"text-align: right;\">\n",
       "      <th></th>\n",
       "      <th>count</th>\n",
       "      <th>dtype</th>\n",
       "    </tr>\n",
       "  </thead>\n",
       "  <tbody>\n",
       "    <tr>\n",
       "      <th>age</th>\n",
       "      <td>41</td>\n",
       "      <td>int64</td>\n",
       "    </tr>\n",
       "    <tr>\n",
       "      <th>sex</th>\n",
       "      <td>2</td>\n",
       "      <td>int64</td>\n",
       "    </tr>\n",
       "    <tr>\n",
       "      <th>cp</th>\n",
       "      <td>4</td>\n",
       "      <td>int64</td>\n",
       "    </tr>\n",
       "    <tr>\n",
       "      <th>trestbps</th>\n",
       "      <td>49</td>\n",
       "      <td>int64</td>\n",
       "    </tr>\n",
       "    <tr>\n",
       "      <th>chol</th>\n",
       "      <td>152</td>\n",
       "      <td>int64</td>\n",
       "    </tr>\n",
       "    <tr>\n",
       "      <th>fbs</th>\n",
       "      <td>2</td>\n",
       "      <td>int64</td>\n",
       "    </tr>\n",
       "    <tr>\n",
       "      <th>restecg</th>\n",
       "      <td>3</td>\n",
       "      <td>int64</td>\n",
       "    </tr>\n",
       "    <tr>\n",
       "      <th>thalach</th>\n",
       "      <td>91</td>\n",
       "      <td>int64</td>\n",
       "    </tr>\n",
       "    <tr>\n",
       "      <th>exang</th>\n",
       "      <td>2</td>\n",
       "      <td>int64</td>\n",
       "    </tr>\n",
       "    <tr>\n",
       "      <th>oldpeak</th>\n",
       "      <td>40</td>\n",
       "      <td>float64</td>\n",
       "    </tr>\n",
       "    <tr>\n",
       "      <th>slope</th>\n",
       "      <td>3</td>\n",
       "      <td>int64</td>\n",
       "    </tr>\n",
       "    <tr>\n",
       "      <th>ca</th>\n",
       "      <td>5</td>\n",
       "      <td>int64</td>\n",
       "    </tr>\n",
       "    <tr>\n",
       "      <th>thal</th>\n",
       "      <td>4</td>\n",
       "      <td>int64</td>\n",
       "    </tr>\n",
       "    <tr>\n",
       "      <th>target</th>\n",
       "      <td>2</td>\n",
       "      <td>int64</td>\n",
       "    </tr>\n",
       "  </tbody>\n",
       "</table>\n",
       "</div>"
      ],
      "text/plain": [
       "          count    dtype\n",
       "age          41    int64\n",
       "sex           2    int64\n",
       "cp            4    int64\n",
       "trestbps     49    int64\n",
       "chol        152    int64\n",
       "fbs           2    int64\n",
       "restecg       3    int64\n",
       "thalach      91    int64\n",
       "exang         2    int64\n",
       "oldpeak      40  float64\n",
       "slope         3    int64\n",
       "ca            5    int64\n",
       "thal          4    int64\n",
       "target        2    int64"
      ]
     },
     "execution_count": 299,
     "metadata": {},
     "output_type": "execute_result"
    }
   ],
   "source": [
    "dtypes_count = pd.DataFrame({'count': data.nunique(), 'dtype': data.dtypes}, index=data.columns)\n",
    "dtypes_count"
   ]
  },
  {
   "cell_type": "markdown",
   "id": "cc6c8180",
   "metadata": {},
   "source": [
    "Видим, что категориальные признаки, это: sex, cp, fbs, restecg, exang, slope, ca, thal + целевая"
   ]
  },
  {
   "cell_type": "markdown",
   "id": "2da8656a",
   "metadata": {},
   "source": [
    "## Категориальные признаки"
   ]
  },
  {
   "cell_type": "markdown",
   "id": "616341fb",
   "metadata": {},
   "source": [
    "Отберем категориальные признаки"
   ]
  },
  {
   "cell_type": "code",
   "execution_count": 300,
   "id": "158bf804",
   "metadata": {},
   "outputs": [
    {
     "data": {
      "text/plain": [
       "['sex', 'cp', 'fbs', 'restecg', 'exang', 'slope', 'ca', 'thal']"
      ]
     },
     "execution_count": 300,
     "metadata": {},
     "output_type": "execute_result"
    }
   ],
   "source": [
    "cols_cat = dtypes_count[dtypes_count['count'] < 10].index.to_list()\n",
    "cols_cat = [col for col in cols_cat if col != 'target']\n",
    "cols_cat"
   ]
  },
  {
   "cell_type": "markdown",
   "id": "77e0db1a",
   "metadata": {},
   "source": [
    "проверим значения категориальных признаков:"
   ]
  },
  {
   "cell_type": "code",
   "execution_count": 301,
   "id": "654052d7",
   "metadata": {},
   "outputs": [
    {
     "name": "stdout",
     "output_type": "stream",
     "text": [
      "sex : [1 0]\n",
      "cp : [3 2 1 0]\n",
      "fbs : [1 0]\n",
      "restecg : [0 1 2]\n",
      "exang : [0 1]\n",
      "slope : [0 2 1]\n",
      "ca : [0 2 1 3 4]\n",
      "thal : [1 2 3 0]\n"
     ]
    }
   ],
   "source": [
    "for col in cols_cat:\n",
    "    print(col, ':', data[col].unique())"
   ]
  },
  {
   "cell_type": "markdown",
   "id": "5b1ffa35",
   "metadata": {},
   "source": [
    "По описанию задачи значения ca 0-3, thal 0-2, посмотрим сколько значений, выходящих за границы условия:"
   ]
  },
  {
   "cell_type": "code",
   "execution_count": 302,
   "id": "36f99d92",
   "metadata": {},
   "outputs": [
    {
     "data": {
      "text/html": [
       "<div>\n",
       "<style scoped>\n",
       "    .dataframe tbody tr th:only-of-type {\n",
       "        vertical-align: middle;\n",
       "    }\n",
       "\n",
       "    .dataframe tbody tr th {\n",
       "        vertical-align: top;\n",
       "    }\n",
       "\n",
       "    .dataframe thead th {\n",
       "        text-align: right;\n",
       "    }\n",
       "</style>\n",
       "<table border=\"1\" class=\"dataframe\">\n",
       "  <thead>\n",
       "    <tr style=\"text-align: right;\">\n",
       "      <th></th>\n",
       "      <th>age</th>\n",
       "      <th>sex</th>\n",
       "      <th>cp</th>\n",
       "      <th>trestbps</th>\n",
       "      <th>chol</th>\n",
       "      <th>fbs</th>\n",
       "      <th>restecg</th>\n",
       "      <th>thalach</th>\n",
       "      <th>exang</th>\n",
       "      <th>oldpeak</th>\n",
       "      <th>slope</th>\n",
       "      <th>ca</th>\n",
       "      <th>thal</th>\n",
       "      <th>target</th>\n",
       "    </tr>\n",
       "  </thead>\n",
       "  <tbody>\n",
       "    <tr>\n",
       "      <th>92</th>\n",
       "      <td>52</td>\n",
       "      <td>1</td>\n",
       "      <td>2</td>\n",
       "      <td>138</td>\n",
       "      <td>223</td>\n",
       "      <td>0</td>\n",
       "      <td>1</td>\n",
       "      <td>169</td>\n",
       "      <td>0</td>\n",
       "      <td>0.0</td>\n",
       "      <td>2</td>\n",
       "      <td>4</td>\n",
       "      <td>2</td>\n",
       "      <td>1</td>\n",
       "    </tr>\n",
       "    <tr>\n",
       "      <th>158</th>\n",
       "      <td>58</td>\n",
       "      <td>1</td>\n",
       "      <td>1</td>\n",
       "      <td>125</td>\n",
       "      <td>220</td>\n",
       "      <td>0</td>\n",
       "      <td>1</td>\n",
       "      <td>144</td>\n",
       "      <td>0</td>\n",
       "      <td>0.4</td>\n",
       "      <td>1</td>\n",
       "      <td>4</td>\n",
       "      <td>3</td>\n",
       "      <td>1</td>\n",
       "    </tr>\n",
       "    <tr>\n",
       "      <th>163</th>\n",
       "      <td>38</td>\n",
       "      <td>1</td>\n",
       "      <td>2</td>\n",
       "      <td>138</td>\n",
       "      <td>175</td>\n",
       "      <td>0</td>\n",
       "      <td>1</td>\n",
       "      <td>173</td>\n",
       "      <td>0</td>\n",
       "      <td>0.0</td>\n",
       "      <td>2</td>\n",
       "      <td>4</td>\n",
       "      <td>2</td>\n",
       "      <td>1</td>\n",
       "    </tr>\n",
       "    <tr>\n",
       "      <th>251</th>\n",
       "      <td>43</td>\n",
       "      <td>1</td>\n",
       "      <td>0</td>\n",
       "      <td>132</td>\n",
       "      <td>247</td>\n",
       "      <td>1</td>\n",
       "      <td>0</td>\n",
       "      <td>143</td>\n",
       "      <td>1</td>\n",
       "      <td>0.1</td>\n",
       "      <td>1</td>\n",
       "      <td>4</td>\n",
       "      <td>3</td>\n",
       "      <td>0</td>\n",
       "    </tr>\n",
       "  </tbody>\n",
       "</table>\n",
       "</div>"
      ],
      "text/plain": [
       "     age  sex  cp  trestbps  chol  fbs  restecg  thalach  exang  oldpeak  \\\n",
       "92    52    1   2       138   223    0        1      169      0      0.0   \n",
       "158   58    1   1       125   220    0        1      144      0      0.4   \n",
       "163   38    1   2       138   175    0        1      173      0      0.0   \n",
       "251   43    1   0       132   247    1        0      143      1      0.1   \n",
       "\n",
       "     slope  ca  thal  target  \n",
       "92       2   4     2       1  \n",
       "158      1   4     3       1  \n",
       "163      2   4     2       1  \n",
       "251      1   4     3       0  "
      ]
     },
     "execution_count": 302,
     "metadata": {},
     "output_type": "execute_result"
    }
   ],
   "source": [
    "data[data.ca == 4]"
   ]
  },
  {
   "cell_type": "code",
   "execution_count": 303,
   "id": "19eae1d8",
   "metadata": {},
   "outputs": [
    {
     "data": {
      "text/plain": [
       "0"
      ]
     },
     "execution_count": 303,
     "metadata": {},
     "output_type": "execute_result"
    }
   ],
   "source": [
    "# проверим, нет ли дублей за исключение колонки ca - вдруг ошибочно значение 4\n",
    "data[[col for col in data.columns if col != 'ca']].duplicated().sum()"
   ]
  },
  {
   "cell_type": "markdown",
   "id": "9782aeb6",
   "metadata": {},
   "source": [
    "Дублей без признака ca нет, значений ca=4 целых 4, это большое число для малого общего числа наблюдений 302, пока оставим для дальнейшего анализа "
   ]
  },
  {
   "cell_type": "code",
   "execution_count": 304,
   "id": "81bbed7a",
   "metadata": {},
   "outputs": [
    {
     "data": {
      "text/plain": [
       "117"
      ]
     },
     "execution_count": 304,
     "metadata": {},
     "output_type": "execute_result"
    }
   ],
   "source": [
    "data[data.thal == 3].shape[0]"
   ]
  },
  {
   "cell_type": "markdown",
   "id": "db4eece4",
   "metadata": {},
   "source": [
    "наблюдений со значением thal == 3 более трети, однозначно ошибка в условии."
   ]
  },
  {
   "cell_type": "markdown",
   "id": "0250ab1d",
   "metadata": {},
   "source": [
    "## Количественные признаки"
   ]
  },
  {
   "cell_type": "code",
   "execution_count": 305,
   "id": "ac8f0583",
   "metadata": {},
   "outputs": [
    {
     "data": {
      "text/plain": [
       "['age', 'trestbps', 'chol', 'thalach', 'oldpeak']"
      ]
     },
     "execution_count": 305,
     "metadata": {},
     "output_type": "execute_result"
    }
   ],
   "source": [
    "cols_num = dtypes_count[dtypes_count['count']>=10].index.to_list()\n",
    "cols_num"
   ]
  },
  {
   "cell_type": "code",
   "execution_count": 306,
   "id": "6ae6a808",
   "metadata": {},
   "outputs": [
    {
     "data": {
      "text/html": [
       "<div>\n",
       "<style scoped>\n",
       "    .dataframe tbody tr th:only-of-type {\n",
       "        vertical-align: middle;\n",
       "    }\n",
       "\n",
       "    .dataframe tbody tr th {\n",
       "        vertical-align: top;\n",
       "    }\n",
       "\n",
       "    .dataframe thead th {\n",
       "        text-align: right;\n",
       "    }\n",
       "</style>\n",
       "<table border=\"1\" class=\"dataframe\">\n",
       "  <thead>\n",
       "    <tr style=\"text-align: right;\">\n",
       "      <th></th>\n",
       "      <th>age</th>\n",
       "      <th>trestbps</th>\n",
       "      <th>chol</th>\n",
       "      <th>thalach</th>\n",
       "      <th>oldpeak</th>\n",
       "    </tr>\n",
       "  </thead>\n",
       "  <tbody>\n",
       "    <tr>\n",
       "      <th>count</th>\n",
       "      <td>302.00000</td>\n",
       "      <td>302.000000</td>\n",
       "      <td>302.000000</td>\n",
       "      <td>302.000000</td>\n",
       "      <td>302.000000</td>\n",
       "    </tr>\n",
       "    <tr>\n",
       "      <th>mean</th>\n",
       "      <td>54.42053</td>\n",
       "      <td>131.602649</td>\n",
       "      <td>246.500000</td>\n",
       "      <td>149.569536</td>\n",
       "      <td>1.043046</td>\n",
       "    </tr>\n",
       "    <tr>\n",
       "      <th>std</th>\n",
       "      <td>9.04797</td>\n",
       "      <td>17.563394</td>\n",
       "      <td>51.753489</td>\n",
       "      <td>22.903527</td>\n",
       "      <td>1.161452</td>\n",
       "    </tr>\n",
       "    <tr>\n",
       "      <th>min</th>\n",
       "      <td>29.00000</td>\n",
       "      <td>94.000000</td>\n",
       "      <td>126.000000</td>\n",
       "      <td>71.000000</td>\n",
       "      <td>0.000000</td>\n",
       "    </tr>\n",
       "    <tr>\n",
       "      <th>25%</th>\n",
       "      <td>48.00000</td>\n",
       "      <td>120.000000</td>\n",
       "      <td>211.000000</td>\n",
       "      <td>133.250000</td>\n",
       "      <td>0.000000</td>\n",
       "    </tr>\n",
       "    <tr>\n",
       "      <th>50%</th>\n",
       "      <td>55.50000</td>\n",
       "      <td>130.000000</td>\n",
       "      <td>240.500000</td>\n",
       "      <td>152.500000</td>\n",
       "      <td>0.800000</td>\n",
       "    </tr>\n",
       "    <tr>\n",
       "      <th>75%</th>\n",
       "      <td>61.00000</td>\n",
       "      <td>140.000000</td>\n",
       "      <td>274.750000</td>\n",
       "      <td>166.000000</td>\n",
       "      <td>1.600000</td>\n",
       "    </tr>\n",
       "    <tr>\n",
       "      <th>max</th>\n",
       "      <td>77.00000</td>\n",
       "      <td>200.000000</td>\n",
       "      <td>564.000000</td>\n",
       "      <td>202.000000</td>\n",
       "      <td>6.200000</td>\n",
       "    </tr>\n",
       "  </tbody>\n",
       "</table>\n",
       "</div>"
      ],
      "text/plain": [
       "             age    trestbps        chol     thalach     oldpeak\n",
       "count  302.00000  302.000000  302.000000  302.000000  302.000000\n",
       "mean    54.42053  131.602649  246.500000  149.569536    1.043046\n",
       "std      9.04797   17.563394   51.753489   22.903527    1.161452\n",
       "min     29.00000   94.000000  126.000000   71.000000    0.000000\n",
       "25%     48.00000  120.000000  211.000000  133.250000    0.000000\n",
       "50%     55.50000  130.000000  240.500000  152.500000    0.800000\n",
       "75%     61.00000  140.000000  274.750000  166.000000    1.600000\n",
       "max     77.00000  200.000000  564.000000  202.000000    6.200000"
      ]
     },
     "execution_count": 306,
     "metadata": {},
     "output_type": "execute_result"
    }
   ],
   "source": [
    "data[cols_num].describe()"
   ]
  },
  {
   "cell_type": "markdown",
   "id": "99e1f055",
   "metadata": {},
   "source": [
    "Видим подозрительно большие значения у признаков chol и oldpeak - возможны выбросы. Так же отметим, что возраст пациентов колеблется от 29 до 77 лет."
   ]
  },
  {
   "cell_type": "markdown",
   "id": "b76ec5e0",
   "metadata": {},
   "source": [
    "# Анализ категориальных переменных"
   ]
  },
  {
   "cell_type": "markdown",
   "id": "4c20d170",
   "metadata": {},
   "source": [
    "## Распределение признаков"
   ]
  },
  {
   "cell_type": "code",
   "execution_count": 307,
   "id": "267c020c",
   "metadata": {},
   "outputs": [
    {
     "data": {
      "image/png": "[encoded data removed]",
      "text/plain": [
       "<Figure size 864x720 with 9 Axes>"
      ]
     },
     "metadata": {},
     "output_type": "display_data"
    }
   ],
   "source": [
    "fig, axes = plt.subplots(ceil(len(cols_cat)/3), 3, figsize=(12,10))\n",
    "for y, col in enumerate(cols_cat):\n",
    "    i, j = divmod(y, 3)\n",
    "    sns.countplot(data=data, x=col, ax=axes[i,j], alpha=0.7)\n",
    "fig.tight_layout()"
   ]
  },
  {
   "cell_type": "markdown",
   "id": "f39e499a",
   "metadata": {},
   "source": [
    "По графикам видим, что thal=0 очень мало, посмотрим какое число записей с таким значением, может выброс?"
   ]
  },
  {
   "cell_type": "code",
   "execution_count": 308,
   "id": "aa5accac",
   "metadata": {},
   "outputs": [
    {
     "data": {
      "text/html": [
       "<div>\n",
       "<style scoped>\n",
       "    .dataframe tbody tr th:only-of-type {\n",
       "        vertical-align: middle;\n",
       "    }\n",
       "\n",
       "    .dataframe tbody tr th {\n",
       "        vertical-align: top;\n",
       "    }\n",
       "\n",
       "    .dataframe thead th {\n",
       "        text-align: right;\n",
       "    }\n",
       "</style>\n",
       "<table border=\"1\" class=\"dataframe\">\n",
       "  <thead>\n",
       "    <tr style=\"text-align: right;\">\n",
       "      <th></th>\n",
       "      <th>age</th>\n",
       "      <th>sex</th>\n",
       "      <th>cp</th>\n",
       "      <th>trestbps</th>\n",
       "      <th>chol</th>\n",
       "      <th>fbs</th>\n",
       "      <th>restecg</th>\n",
       "      <th>thalach</th>\n",
       "      <th>exang</th>\n",
       "      <th>oldpeak</th>\n",
       "      <th>slope</th>\n",
       "      <th>ca</th>\n",
       "      <th>thal</th>\n",
       "      <th>target</th>\n",
       "    </tr>\n",
       "  </thead>\n",
       "  <tbody>\n",
       "    <tr>\n",
       "      <th>48</th>\n",
       "      <td>53</td>\n",
       "      <td>0</td>\n",
       "      <td>2</td>\n",
       "      <td>128</td>\n",
       "      <td>216</td>\n",
       "      <td>0</td>\n",
       "      <td>0</td>\n",
       "      <td>115</td>\n",
       "      <td>0</td>\n",
       "      <td>0.0</td>\n",
       "      <td>2</td>\n",
       "      <td>0</td>\n",
       "      <td>0</td>\n",
       "      <td>1</td>\n",
       "    </tr>\n",
       "    <tr>\n",
       "      <th>281</th>\n",
       "      <td>52</td>\n",
       "      <td>1</td>\n",
       "      <td>0</td>\n",
       "      <td>128</td>\n",
       "      <td>204</td>\n",
       "      <td>1</td>\n",
       "      <td>1</td>\n",
       "      <td>156</td>\n",
       "      <td>1</td>\n",
       "      <td>1.0</td>\n",
       "      <td>1</td>\n",
       "      <td>0</td>\n",
       "      <td>0</td>\n",
       "      <td>0</td>\n",
       "    </tr>\n",
       "  </tbody>\n",
       "</table>\n",
       "</div>"
      ],
      "text/plain": [
       "     age  sex  cp  trestbps  chol  fbs  restecg  thalach  exang  oldpeak  \\\n",
       "48    53    0   2       128   216    0        0      115      0      0.0   \n",
       "281   52    1   0       128   204    1        1      156      1      1.0   \n",
       "\n",
       "     slope  ca  thal  target  \n",
       "48       2   0     0       1  \n",
       "281      1   0     0       0  "
      ]
     },
     "execution_count": 308,
     "metadata": {},
     "output_type": "execute_result"
    }
   ],
   "source": [
    "data[data.thal == 0]"
   ]
  },
  {
   "cell_type": "markdown",
   "id": "27ec9d74",
   "metadata": {},
   "source": [
    "2 записи, пока не будем относить к выбросам "
   ]
  },
  {
   "cell_type": "markdown",
   "id": "ec8a02cb",
   "metadata": {},
   "source": [
    "## Влияние признаков на целевую переменную"
   ]
  },
  {
   "cell_type": "code",
   "execution_count": 309,
   "id": "6e5c7074",
   "metadata": {},
   "outputs": [
    {
     "data": {
      "image/png": "[encoded data removed]",
      "text/plain": [
       "<Figure size 1440x1440 with 9 Axes>"
      ]
     },
     "metadata": {},
     "output_type": "display_data"
    }
   ],
   "source": [
    "fig, axes = plt.subplots(ceil(len(cols_cat)/3), 3, figsize=(20,20))\n",
    "for y, col in enumerate(cols_cat):\n",
    "    i, j = divmod(y, 3)\n",
    "    sns.countplot(data=data, x=col, hue='target', alpha=0.7, ax=axes[i,j])"
   ]
  },
  {
   "cell_type": "markdown",
   "id": "c0cde5bb",
   "metadata": {},
   "source": [
    "По графикам можно сделать следующие выводы:\n",
    "+ женщины (sex=0) намного больше мужчин подвержены приступу\n",
    "+ cp = 0 - меньше всего шансов приступа, при cp>0 шансы приступа в несколько раз выше, чем если его не будет\n",
    "+ fbs меньше всего влияет, но тем не менее влияние есть: если fbs=0 - шанс приступа выше, при fbs шансы примерно равны\n",
    "+ При restecg = 1 шансов приступа больше всего\n",
    "+ exang = 0 резко повышает шансы приступа\n",
    "+ slope = 2 резко повышает шансы приступа\n",
    "+ ca=0 резко повышает шансы приступа\n",
    "+ thal = 2 резко повышает шансы приступа\n",
    "\n",
    "Мы видим довольно сильную зависимость целевой переменной от категориальных признаков. На всякий случай проведем тест χ² для проверки равномерно распределен наш признак целевой по fbs или нет"
   ]
  },
  {
   "cell_type": "markdown",
   "id": "0cdf2b4f",
   "metadata": {},
   "source": [
    "## Проверка зависимости целевой переменной"
   ]
  },
  {
   "cell_type": "markdown",
   "id": "a16f5985",
   "metadata": {},
   "source": [
    "Проведем χ² тест для того, чтоб понять на сколько равномерно распределение целевого признака по значениям fbs"
   ]
  },
  {
   "cell_type": "code",
   "execution_count": 310,
   "id": "9fdc55d5",
   "metadata": {},
   "outputs": [
    {
     "name": "stdout",
     "output_type": "stream",
     "text": [
      "P-Value χ² теста между группами thal и target = 0.7611374700928197\n",
      "\n"
     ]
    }
   ],
   "source": [
    "CrosstabResult = pd.crosstab(index=data['fbs'], columns=data.target)\n",
    "ChiSqResult = chi2_contingency(CrosstabResult)\n",
    "print(f\"P-Value χ² теста между группами {col} и target = {ChiSqResult[1]}\\n\")\n"
   ]
  },
  {
   "cell_type": "markdown",
   "id": "07ba9048",
   "metadata": {},
   "source": [
    "По результатам теста видим, что наши признаки с большей доли вероятности распределены независимо, поэтому признак fbs можно исключить из дальнейшего анализа"
   ]
  },
  {
   "cell_type": "code",
   "execution_count": 311,
   "id": "3689e7a8",
   "metadata": {},
   "outputs": [],
   "source": [
    "col_for_del = ['fbs']\n",
    "data.drop(col_for_del, axis=1, inplace=True)\n",
    "cols_cat = del_from_list(cols_cat, col_for_del)"
   ]
  },
  {
   "cell_type": "markdown",
   "id": "f1e5c9f7",
   "metadata": {},
   "source": [
    "## Взаимосвязь между признаками"
   ]
  },
  {
   "cell_type": "markdown",
   "id": "add05084",
   "metadata": {},
   "source": [
    "Посмотрим на графиках, как связаны некоторые категориальные признаки друг с другом"
   ]
  },
  {
   "cell_type": "markdown",
   "id": "428f01dd",
   "metadata": {},
   "source": [
    "**sex**\n"
   ]
  },
  {
   "cell_type": "code",
   "execution_count": 312,
   "id": "d2f5a8d2",
   "metadata": {},
   "outputs": [
    {
     "data": {
      "image/png": "[encoded data removed]",
      "text/plain": [
       "<Figure size 1440x720 with 6 Axes>"
      ]
     },
     "metadata": {},
     "output_type": "display_data"
    }
   ],
   "source": [
    "cols = ['cp', 'restecg', 'exang', 'slope', 'ca', 'thal']\n",
    "fig, axes = plt.subplots(ceil(len(cols)/3), 3, figsize=(20,10))\n",
    "for y, col in enumerate(cols):\n",
    "    i, j = divmod(y, 3)\n",
    "    sns.countplot(data=data, x=col, hue='sex', alpha=0.7, ax=axes[i, j])"
   ]
  },
  {
   "cell_type": "markdown",
   "id": "bf58cd6d",
   "metadata": {},
   "source": [
    "По графикам не отмечается сильной корреляции между признаками. Хотя взаимосвязь имеется, например:\n",
    "+ У денчщин чаще cp=3, чем у мужчин\n",
    "+ у мужчин чаще restecg=2, чем у женщин\n",
    "+ у женщин чаще exang=1, чем у мужчин\n",
    "+ slope и ca прмерно одинаково распределены между мужчинами и женщинами\n",
    "+  почти все мужчины имеют  thal=2, женщины меньше мужчин склонны к этому значению, зато гораздо более склонны к значениям thal=3 и thal=1. \n",
    "\n",
    "Сформируем гипотезы по графикам:\n",
    "+  H0: sex и остальные категориальные признаки распределены равномерно\n"
   ]
  },
  {
   "cell_type": "code",
   "execution_count": 313,
   "id": "36d6d90a",
   "metadata": {},
   "outputs": [
    {
     "name": "stdout",
     "output_type": "stream",
     "text": [
      "P-Value χ² теста между группами sex и cp = 0.06875893200193164\n",
      "\n",
      "P-Value χ² теста между группами sex и restecg = 0.15655216401735997\n",
      "\n",
      "P-Value χ² теста между группами sex и exang = 0.01820392572039428\n",
      "\n",
      "P-Value χ² теста между группами sex и slope = 0.7153051408777256\n",
      "\n",
      "P-Value χ² теста между группами sex и ca = 0.11757841862109845\n",
      "\n",
      "P-Value χ² теста между группами sex и thal = 8.669405046711333e-10\n",
      "\n"
     ]
    }
   ],
   "source": [
    "X = ['sex'] * 6\n",
    "Y = ['cp', 'restecg', 'exang', 'slope', 'ca', 'thal']\n",
    "ksi(data, X, Y)"
   ]
  },
  {
   "cell_type": "markdown",
   "id": "a5fdf757",
   "metadata": {},
   "source": [
    "По тестам видим, что равномеренее всего признак sex распределен с признаком slope. Так же гипотеза о равномерности не отвергается для признака sex с restecg и ca.\n",
    "\n",
    "Сильнее всего взаимосвязь у признака sex с thal."
   ]
  },
  {
   "cell_type": "markdown",
   "id": "bc4b6eed",
   "metadata": {},
   "source": [
    "**thal**"
   ]
  },
  {
   "cell_type": "code",
   "execution_count": 314,
   "id": "fb26801f",
   "metadata": {},
   "outputs": [
    {
     "data": {
      "image/png": "[encoded data removed]",
      "text/plain": [
       "<Figure size 1440x720 with 6 Axes>"
      ]
     },
     "metadata": {},
     "output_type": "display_data"
    }
   ],
   "source": [
    "cols = ['cp', 'restecg', 'exang', 'slope', 'ca']\n",
    "fig, axes = plt.subplots(ceil(len(cols)/3), 3, figsize=(20,10))\n",
    "for y, col in enumerate(cols):\n",
    "    i, j = divmod(y, 3)\n",
    "    sns.countplot(data=data, x=col, hue='thal', alpha=0.7, ax=axes[i, j])"
   ]
  },
  {
   "cell_type": "markdown",
   "id": "3df63356",
   "metadata": {},
   "source": [
    "По графикам признак thal выглядит сильно взаимосвязанным с признаками cp, exang, slope, ca. А вот признак restecg выглядит равномерно.\n",
    "\n",
    "Проверим гипотезы о равномерности этих признаков:"
   ]
  },
  {
   "cell_type": "code",
   "execution_count": 315,
   "id": "46f33414",
   "metadata": {},
   "outputs": [
    {
     "name": "stdout",
     "output_type": "stream",
     "text": [
      "P-Value χ² теста между группами thal и cp = 4.256610554256968e-06\n",
      "\n",
      "P-Value χ² теста между группами thal и restecg = 0.7497695803919335\n",
      "\n",
      "P-Value χ² теста между группами thal и exang = 3.9561322376318545e-07\n",
      "\n",
      "P-Value χ² теста между группами thal и slope = 4.79941989727236e-06\n",
      "\n",
      "P-Value χ² теста между группами thal и ca = 0.022538062056491392\n",
      "\n"
     ]
    }
   ],
   "source": [
    "X = ['thal'] * 5\n",
    "Y = ['cp', 'restecg', 'exang', 'slope', 'ca']\n",
    "ksi(data, X, Y)"
   ]
  },
  {
   "cell_type": "markdown",
   "id": "e6d4359b",
   "metadata": {},
   "source": [
    "Наши тесты подтвердили выводы из графиков - гипотеза о равномерности распределения признаков thal и restecg действительно не отвергается, а вот со всеми остальными признаками  - мы ее уже отклоняем. Удалим из дальнейшего анализа признак thal, тк наблюдается его взаимосвязь со многими другими признаками."
   ]
  },
  {
   "cell_type": "code",
   "execution_count": 316,
   "id": "aab84fa7",
   "metadata": {},
   "outputs": [],
   "source": [
    "col_for_del = ['thal']\n",
    "data.drop(col_for_del, axis=1, inplace=True)\n",
    "cols_cat = del_from_list(cols_cat, col_for_del)"
   ]
  },
  {
   "cell_type": "markdown",
   "id": "5c6a19d1",
   "metadata": {},
   "source": [
    "**sp**"
   ]
  },
  {
   "cell_type": "code",
   "execution_count": 317,
   "id": "71e17267",
   "metadata": {},
   "outputs": [
    {
     "data": {
      "image/png": "[encoded data removed]",
      "text/plain": [
       "<Figure size 1440x720 with 6 Axes>"
      ]
     },
     "metadata": {},
     "output_type": "display_data"
    }
   ],
   "source": [
    "cols = ['restecg', 'exang', 'slope', 'ca']\n",
    "fig, axes = plt.subplots(ceil(len(cols)/3), 3, figsize=(20,10))\n",
    "for y, col in enumerate(cols):\n",
    "    i, j = divmod(y, 3)\n",
    "    sns.countplot(data=data, x=col, hue='cp', alpha=0.7, ax=axes[i, j])"
   ]
  },
  {
   "cell_type": "markdown",
   "id": "b09ce55e",
   "metadata": {},
   "source": [
    "+ при cp=0  почти всегда exang=0, при cp=2 почти всегда exang=0\n",
    "+ при slope=1 как правило cp=0\n",
    "\n",
    "проверим гипотезы:"
   ]
  },
  {
   "cell_type": "code",
   "execution_count": 318,
   "id": "e0c8f2d4",
   "metadata": {},
   "outputs": [
    {
     "name": "stdout",
     "output_type": "stream",
     "text": [
      "P-Value χ² теста между группами cp и restecg = 0.1513627409833443\n",
      "\n",
      "P-Value χ² теста между группами cp и exang = 2.0449560429874252e-14\n",
      "\n",
      "P-Value χ² теста между группами cp и slope = 0.00012222116762299602\n",
      "\n",
      "P-Value χ² теста между группами cp и ca = 0.0011249053837924287\n",
      "\n"
     ]
    }
   ],
   "source": [
    "X = ['cp'] * 4\n",
    "Y = ['restecg', 'exang', 'slope', 'ca']\n",
    "ksi(data, X, Y)"
   ]
  },
  {
   "cell_type": "markdown",
   "id": "df744d48",
   "metadata": {},
   "source": [
    "Наблюдаем сильную взаимосвязь между признаками cp и exang. "
   ]
  },
  {
   "cell_type": "markdown",
   "id": "85ebe0fb",
   "metadata": {},
   "source": [
    "**exang**"
   ]
  },
  {
   "cell_type": "code",
   "execution_count": 319,
   "id": "068f078b",
   "metadata": {},
   "outputs": [
    {
     "data": {
      "image/png": "[encoded data removed]",
      "text/plain": [
       "<Figure size 1440x360 with 3 Axes>"
      ]
     },
     "metadata": {},
     "output_type": "display_data"
    }
   ],
   "source": [
    "cols = ['restecg', 'slope', 'ca']\n",
    "fig, axes = plt.subplots(ncols=3, figsize=(20,5))\n",
    "for y, col in enumerate(cols):\n",
    "    sns.countplot(data=data, x=col, hue='exang', alpha=0.7, ax=axes[y])"
   ]
  },
  {
   "cell_type": "markdown",
   "id": "7a6eed5f",
   "metadata": {},
   "source": [
    "+ По графикам видим, что если slope=2, то exang скорее всего равен 0\n",
    "+ если ca=0, то скорее всего exang=0"
   ]
  },
  {
   "cell_type": "code",
   "execution_count": 320,
   "id": "b341b429",
   "metadata": {},
   "outputs": [
    {
     "name": "stdout",
     "output_type": "stream",
     "text": [
      "P-Value χ² теста между группами exang и slope = 4.210860325908013e-06\n",
      "\n",
      "P-Value χ² теста между группами exang и ca = 0.013826252470914017\n",
      "\n"
     ]
    }
   ],
   "source": [
    "X = ['exang'] * 4\n",
    "Y = ['slope', 'ca']\n",
    "ksi(data, X, Y)"
   ]
  },
  {
   "cell_type": "markdown",
   "id": "3e7b8d9f",
   "metadata": {},
   "source": [
    "У признака exang довольно сильная взаимосвязь  c признаками slope, cp, sex. Этот признак так же исключим из дальнейшего анализа."
   ]
  },
  {
   "cell_type": "code",
   "execution_count": 321,
   "id": "ea30129a",
   "metadata": {},
   "outputs": [],
   "source": [
    "col_for_del = ['exang']\n",
    "data.drop(col_for_del, axis=1, inplace=True)\n",
    "cols_cat = del_from_list(cols_cat, col_for_del)"
   ]
  },
  {
   "cell_type": "markdown",
   "id": "0631a924",
   "metadata": {},
   "source": [
    "# Анализ количественных признаков"
   ]
  },
  {
   "cell_type": "markdown",
   "id": "40f1df8d",
   "metadata": {},
   "source": [
    "## Распределение признаков"
   ]
  },
  {
   "cell_type": "code",
   "execution_count": 322,
   "id": "ad32c45b",
   "metadata": {},
   "outputs": [
    {
     "data": {
      "image/png": "[encoded data removed]",
      "text/plain": [
       "<Figure size 1440x720 with 6 Axes>"
      ]
     },
     "metadata": {},
     "output_type": "display_data"
    }
   ],
   "source": [
    "#ig_ = data[cols_num].hist(figsize=(16, 20), bins=50, color=COLOR_PLOT, edgecolor=\"black\", xlabelsize=8, \\\n",
    "#                          ylabelsize=8)\n",
    "fig, axes = plt.subplots(ceil(len(cols_num)/3), 3, figsize=(20,10))\n",
    "for y, col in enumerate(cols_num):\n",
    "    i, j = divmod(y, 3)\n",
    "    sns.boxplot(data=data, x=col, color=COLOR_PLOT, ax=axes[i, j])"
   ]
  },
  {
   "cell_type": "markdown",
   "id": "68e9b338",
   "metadata": {},
   "source": [
    "По графикам видим, что распределение признаков похоже на нормальное, кроме oldpeak. Кроме того виднеются выбросы. Надо от них избавиться, чтобы не вносили шум."
   ]
  },
  {
   "cell_type": "markdown",
   "id": "a003f686",
   "metadata": {},
   "source": [
    "## Работа с выбросами"
   ]
  },
  {
   "cell_type": "code",
   "execution_count": 323,
   "id": "e3b27b2a",
   "metadata": {},
   "outputs": [
    {
     "data": {
      "text/plain": [
       "[223, 248]"
      ]
     },
     "execution_count": 323,
     "metadata": {},
     "output_type": "execute_result"
    }
   ],
   "source": [
    "outliers1 = data[data[\"trestbps\"] > 190].index.to_list()\n",
    "outliers1"
   ]
  },
  {
   "cell_type": "code",
   "execution_count": 324,
   "id": "f1a50af3",
   "metadata": {},
   "outputs": [
    {
     "data": {
      "text/plain": [
       "[85]"
      ]
     },
     "execution_count": 324,
     "metadata": {},
     "output_type": "execute_result"
    }
   ],
   "source": [
    "outliers2 = data[data[\"chol\"] > 500].index.to_list()\n",
    "outliers2"
   ]
  },
  {
   "cell_type": "code",
   "execution_count": 325,
   "id": "0acf55aa",
   "metadata": {},
   "outputs": [
    {
     "data": {
      "text/plain": [
       "[272]"
      ]
     },
     "execution_count": 325,
     "metadata": {},
     "output_type": "execute_result"
    }
   ],
   "source": [
    "outliers3 = data[data[\"thalach\"] < 80].index.to_list()\n",
    "outliers3"
   ]
  },
  {
   "cell_type": "code",
   "execution_count": 326,
   "id": "77db26b7",
   "metadata": {},
   "outputs": [
    {
     "data": {
      "text/plain": [
       "[204, 221]"
      ]
     },
     "execution_count": 326,
     "metadata": {},
     "output_type": "execute_result"
    }
   ],
   "source": [
    "outliers4 = data[data[\"oldpeak\"] > 5].index.to_list()\n",
    "outliers4"
   ]
  },
  {
   "cell_type": "code",
   "execution_count": 327,
   "id": "72e2442b",
   "metadata": {},
   "outputs": [
    {
     "data": {
      "text/plain": [
       "[204, 272, 85, 248, 221, 223]"
      ]
     },
     "execution_count": 327,
     "metadata": {},
     "output_type": "execute_result"
    }
   ],
   "source": [
    "outliers = list(set(outliers1 + outliers2 + outliers3 + outliers4))\n",
    "outliers"
   ]
  },
  {
   "cell_type": "code",
   "execution_count": 328,
   "id": "5fff92d5",
   "metadata": {},
   "outputs": [
    {
     "data": {
      "text/plain": [
       "(302, 11)"
      ]
     },
     "execution_count": 328,
     "metadata": {},
     "output_type": "execute_result"
    }
   ],
   "source": [
    "data.shape"
   ]
  },
  {
   "cell_type": "code",
   "execution_count": 329,
   "id": "ca6e4b77",
   "metadata": {},
   "outputs": [
    {
     "data": {
      "text/plain": [
       "(296, 11)"
      ]
     },
     "execution_count": 329,
     "metadata": {},
     "output_type": "execute_result"
    }
   ],
   "source": [
    "data = data.drop(outliers)\n",
    "data.shape"
   ]
  },
  {
   "cell_type": "markdown",
   "id": "fbfe0619",
   "metadata": {},
   "source": [
    "## Влияние признаков на целевую переменную"
   ]
  },
  {
   "cell_type": "code",
   "execution_count": 330,
   "id": "679ac9b2",
   "metadata": {},
   "outputs": [
    {
     "data": {
      "image/png": "[encoded data removed]",
      "text/plain": [
       "<Figure size 1440x1440 with 6 Axes>"
      ]
     },
     "metadata": {},
     "output_type": "display_data"
    }
   ],
   "source": [
    "fig, axes = plt.subplots(ceil(len(cols_num)/3), 3, figsize=(20,20))\n",
    "for y, col in enumerate(cols_num):\n",
    "    i, j = divmod(y, 3)\n",
    "    sns.kdeplot(data=data, x=col, hue='target', ax=axes[i,j])"
   ]
  },
  {
   "cell_type": "markdown",
   "id": "c3ed2465",
   "metadata": {},
   "source": [
    "Выводы из графиков:\n",
    "\n",
    "Шансы приступа ниже для значений:\n",
    "+ age може+но разбить на группы: до 55 лет шанс приступа выше, как и для группы 69-80.\n",
    "+ trestbps дучше значения после 145 \n",
    "+ chol - лучше значения до 160 и после 270\n",
    "+ thalach - луше более низкие значения, тк при низких значениях меньше шанс приступа, при значении > 145 риск приступа становится выше\n",
    "+ oldpeak лучше чтоб было значение выше, тк до 1.2 выше шанс приступа, после - ниже шанс приступа\n",
    "\n",
    "Проведем t-тест для признаков trestbps и chol, у них средние значения выглядят одинаково, чтобы посмотреть статистически значимо или нет это различие:\n",
    "H0: зависимости целевого признака target от этих признаков нет"
   ]
  },
  {
   "cell_type": "markdown",
   "id": "567b5f09",
   "metadata": {},
   "source": [
    "**target и trestbps**"
   ]
  },
  {
   "cell_type": "code",
   "execution_count": 331,
   "id": "b16137b6",
   "metadata": {},
   "outputs": [
    {
     "data": {
      "image/png": "[encoded data removed]",
      "text/plain": [
       "<Figure size 720x432 with 1 Axes>"
      ]
     },
     "metadata": {},
     "output_type": "display_data"
    }
   ],
   "source": [
    "# для начала проверим похоже ли распределение зависимой переменной trestbps на нормальное:\n",
    "plt.figure(figsize=(10,6))\n",
    "probplot(data['trestbps'], plot= plt, dist=\"norm\")\n",
    "plt.title('Q-Q plot for trestbps')\n",
    "plt.show()"
   ]
  },
  {
   "cell_type": "markdown",
   "id": "9335b4d8",
   "metadata": {},
   "source": [
    "Распределение похоже на нормальное, соотв. можем провести t-test"
   ]
  },
  {
   "cell_type": "code",
   "execution_count": 332,
   "id": "d436558d",
   "metadata": {},
   "outputs": [
    {
     "data": {
      "text/plain": [
       "129.33742331288343"
      ]
     },
     "execution_count": 332,
     "metadata": {},
     "output_type": "execute_result"
    }
   ],
   "source": [
    "# посмотрим на средние значения trestbps для приступа и нет\n",
    "data[data.target == 1].trestbps.mean()"
   ]
  },
  {
   "cell_type": "code",
   "execution_count": 333,
   "id": "405b02af",
   "metadata": {},
   "outputs": [
    {
     "data": {
      "text/plain": [
       "133.34586466165413"
      ]
     },
     "execution_count": 333,
     "metadata": {},
     "output_type": "execute_result"
    }
   ],
   "source": [
    "data[data.target == 0].trestbps.mean()"
   ]
  },
  {
   "cell_type": "markdown",
   "id": "46a3bea1",
   "metadata": {},
   "source": [
    "кажется, значение совсем не велико. Мы проедем двусторонний t-test, где:\n",
    "+ H0: группы одинаковы, не зависимо от target\n",
    "+ H1: группы статистически значимо различаются"
   ]
  },
  {
   "cell_type": "code",
   "execution_count": 334,
   "id": "40269230",
   "metadata": {},
   "outputs": [
    {
     "name": "stdout",
     "output_type": "stream",
     "text": [
      "P-value : 0.04084832366864277\n"
     ]
    }
   ],
   "source": [
    "attack = data[data.target == 1].trestbps\n",
    "non_attack = data[data.target == 0].trestbps\n",
    "\n",
    "st,p = ttest_ind(attack,non_attack)\n",
    "print('P-value :', p)"
   ]
  },
  {
   "cell_type": "markdown",
   "id": "35a589df",
   "metadata": {},
   "source": [
    "P-value < 0.05, делаем вывод, что средние все же статистически значимо различаются"
   ]
  },
  {
   "cell_type": "markdown",
   "id": "2f71bd69",
   "metadata": {},
   "source": [
    "**target и chol**"
   ]
  },
  {
   "cell_type": "code",
   "execution_count": 335,
   "id": "914cf994",
   "metadata": {},
   "outputs": [
    {
     "data": {
      "image/png": "[encoded data removed]",
      "text/plain": [
       "<Figure size 720x432 with 1 Axes>"
      ]
     },
     "metadata": {},
     "output_type": "display_data"
    }
   ],
   "source": [
    "# для начала проверим похоже ли распределение зависимой переменной chol на нормальное:\n",
    "plt.figure(figsize=(10,6))\n",
    "probplot(data['chol'], plot= plt, dist=\"norm\")\n",
    "plt.title('Q-Q plot for chol')\n",
    "plt.show()"
   ]
  },
  {
   "cell_type": "markdown",
   "id": "c2f15c29",
   "metadata": {},
   "source": [
    "за исключением нескольких выбросов распределение нормальное. \n",
    "\n",
    "Проведем t-test для наблюдений, исключив точки, отклоняющиеся от нормального распределения"
   ]
  },
  {
   "cell_type": "code",
   "execution_count": 336,
   "id": "0940fb60",
   "metadata": {},
   "outputs": [
    {
     "data": {
      "text/plain": [
       "238.62111801242236"
      ]
     },
     "execution_count": 336,
     "metadata": {},
     "output_type": "execute_result"
    }
   ],
   "source": [
    "# посмтотрим на средние значения\n",
    "data[(data.target == 1) & (data.chol < 375)].chol.mean()"
   ]
  },
  {
   "cell_type": "code",
   "execution_count": 337,
   "id": "30061052",
   "metadata": {},
   "outputs": [
    {
     "data": {
      "text/plain": [
       "249.19847328244273"
      ]
     },
     "execution_count": 337,
     "metadata": {},
     "output_type": "execute_result"
    }
   ],
   "source": [
    "data[(data.target == 0) & (data.chol < 375)].chol.mean()"
   ]
  },
  {
   "cell_type": "code",
   "execution_count": 338,
   "id": "bf16c04e",
   "metadata": {},
   "outputs": [
    {
     "name": "stdout",
     "output_type": "stream",
     "text": [
      "P-value : 0.045463151142327726\n"
     ]
    }
   ],
   "source": [
    "#проведем эксперимент - t test без выбросов, которые портят нормальность распределения\n",
    "attack = data[(data.target == 1) & (data.chol < 375)].chol\n",
    "non_attack = data[(data.target == 0) & (data.chol < 375)].chol\n",
    "_, p = ttest_ind(attack, non_attack)\n",
    "print('P-value :', p)"
   ]
  },
  {
   "cell_type": "markdown",
   "id": "6866252e",
   "metadata": {},
   "source": [
    "P-value < 0.05, делаем вывод, что средние статистически значимо различаются"
   ]
  },
  {
   "cell_type": "markdown",
   "id": "708144dc",
   "metadata": {},
   "source": [
    "## Корреляционный анализ"
   ]
  },
  {
   "cell_type": "code",
   "execution_count": 339,
   "id": "74b16981",
   "metadata": {},
   "outputs": [],
   "source": [
    "data_num_corr = data[cols_num]"
   ]
  },
  {
   "cell_type": "code",
   "execution_count": 340,
   "id": "ecac9637",
   "metadata": {},
   "outputs": [
    {
     "data": {
      "text/html": [
       "<div>\n",
       "<style scoped>\n",
       "    .dataframe tbody tr th:only-of-type {\n",
       "        vertical-align: middle;\n",
       "    }\n",
       "\n",
       "    .dataframe tbody tr th {\n",
       "        vertical-align: top;\n",
       "    }\n",
       "\n",
       "    .dataframe thead th {\n",
       "        text-align: right;\n",
       "    }\n",
       "</style>\n",
       "<table border=\"1\" class=\"dataframe\">\n",
       "  <thead>\n",
       "    <tr style=\"text-align: right;\">\n",
       "      <th></th>\n",
       "      <th>age</th>\n",
       "      <th>trestbps</th>\n",
       "      <th>chol</th>\n",
       "      <th>thalach</th>\n",
       "      <th>oldpeak</th>\n",
       "    </tr>\n",
       "  </thead>\n",
       "  <tbody>\n",
       "    <tr>\n",
       "      <th>age</th>\n",
       "      <td>1.000000</td>\n",
       "      <td>0.303414</td>\n",
       "      <td>0.191748</td>\n",
       "      <td>-0.395343</td>\n",
       "      <td>0.258754</td>\n",
       "    </tr>\n",
       "    <tr>\n",
       "      <th>trestbps</th>\n",
       "      <td>0.303414</td>\n",
       "      <td>1.000000</td>\n",
       "      <td>0.138749</td>\n",
       "      <td>-0.046346</td>\n",
       "      <td>0.149666</td>\n",
       "    </tr>\n",
       "    <tr>\n",
       "      <th>chol</th>\n",
       "      <td>0.191748</td>\n",
       "      <td>0.138749</td>\n",
       "      <td>1.000000</td>\n",
       "      <td>-0.053713</td>\n",
       "      <td>0.047743</td>\n",
       "    </tr>\n",
       "    <tr>\n",
       "      <th>thalach</th>\n",
       "      <td>-0.395343</td>\n",
       "      <td>-0.046346</td>\n",
       "      <td>-0.053713</td>\n",
       "      <td>1.000000</td>\n",
       "      <td>-0.421617</td>\n",
       "    </tr>\n",
       "    <tr>\n",
       "      <th>oldpeak</th>\n",
       "      <td>0.258754</td>\n",
       "      <td>0.149666</td>\n",
       "      <td>0.047743</td>\n",
       "      <td>-0.421617</td>\n",
       "      <td>1.000000</td>\n",
       "    </tr>\n",
       "  </tbody>\n",
       "</table>\n",
       "</div>"
      ],
      "text/plain": [
       "               age  trestbps      chol   thalach   oldpeak\n",
       "age       1.000000  0.303414  0.191748 -0.395343  0.258754\n",
       "trestbps  0.303414  1.000000  0.138749 -0.046346  0.149666\n",
       "chol      0.191748  0.138749  1.000000 -0.053713  0.047743\n",
       "thalach  -0.395343 -0.046346 -0.053713  1.000000 -0.421617\n",
       "oldpeak   0.258754  0.149666  0.047743 -0.421617  1.000000"
      ]
     },
     "execution_count": 340,
     "metadata": {},
     "output_type": "execute_result"
    }
   ],
   "source": [
    "# не у всех переменных распределение нормальное, поэтому используем непереметрический тест спирмена на корреляцию\n",
    "corr_matrix = data_num_corr.corr(method='spearman')\n",
    "corr_matrix\n"
   ]
  },
  {
   "cell_type": "code",
   "execution_count": 341,
   "id": "6e508083",
   "metadata": {},
   "outputs": [],
   "source": [
    "#для лучшей визуализации обнуляем корреляции, которые ниже заданного порога\n",
    "corr_matrix[abs(corr_matrix) <= TRESHOLD_FOR_CORR] = 0"
   ]
  },
  {
   "cell_type": "code",
   "execution_count": 342,
   "id": "e0af9ae1",
   "metadata": {},
   "outputs": [
    {
     "data": {
      "text/plain": [
       "<AxesSubplot:>"
      ]
     },
     "execution_count": 342,
     "metadata": {},
     "output_type": "execute_result"
    },
    {
     "data": {
      "image/png": "[encoded data removed]",
      "text/plain": [
       "<Figure size 576x576 with 2 Axes>"
      ]
     },
     "metadata": {},
     "output_type": "display_data"
    }
   ],
   "source": [
    "plt.figure(figsize=(8,8))\n",
    "mask = np.triu(np.ones_like(corr_matrix, dtype=bool))\n",
    "cmap = \"viridis\"\n",
    "sns.heatmap(corr_matrix, mask=mask, linewidths=0.1, vmax=1.0, vmin=-1.0,  square=True, cmap=cmap, \n",
    "            annot=True, fmt=\".1f\")"
   ]
  },
  {
   "cell_type": "markdown",
   "id": "8a4132f7",
   "metadata": {},
   "source": [
    "Видим самую сильную корреляцию между признаками thalach и oldpeak, тем не менее, она не критичная и исключать признаки мы не будем"
   ]
  },
  {
   "cell_type": "markdown",
   "id": "2fd727c4",
   "metadata": {},
   "source": [
    "#  Feature engineering"
   ]
  },
  {
   "cell_type": "markdown",
   "id": "c4b274cf",
   "metadata": {},
   "source": [
    "Введем признак Age status, используя данные с п.6.3"
   ]
  },
  {
   "cell_type": "code",
   "execution_count": 343,
   "id": "d56ac29d",
   "metadata": {},
   "outputs": [
    {
     "data": {
      "text/html": [
       "<div>\n",
       "<style scoped>\n",
       "    .dataframe tbody tr th:only-of-type {\n",
       "        vertical-align: middle;\n",
       "    }\n",
       "\n",
       "    .dataframe tbody tr th {\n",
       "        vertical-align: top;\n",
       "    }\n",
       "\n",
       "    .dataframe thead th {\n",
       "        text-align: right;\n",
       "    }\n",
       "</style>\n",
       "<table border=\"1\" class=\"dataframe\">\n",
       "  <thead>\n",
       "    <tr style=\"text-align: right;\">\n",
       "      <th></th>\n",
       "      <th>age</th>\n",
       "      <th>sex</th>\n",
       "      <th>cp</th>\n",
       "      <th>trestbps</th>\n",
       "      <th>chol</th>\n",
       "      <th>restecg</th>\n",
       "      <th>thalach</th>\n",
       "      <th>oldpeak</th>\n",
       "      <th>slope</th>\n",
       "      <th>ca</th>\n",
       "      <th>target</th>\n",
       "      <th>AgeStatus</th>\n",
       "    </tr>\n",
       "  </thead>\n",
       "  <tbody>\n",
       "    <tr>\n",
       "      <th>0</th>\n",
       "      <td>63</td>\n",
       "      <td>1</td>\n",
       "      <td>3</td>\n",
       "      <td>145</td>\n",
       "      <td>233</td>\n",
       "      <td>0</td>\n",
       "      <td>150</td>\n",
       "      <td>2.3</td>\n",
       "      <td>0</td>\n",
       "      <td>0</td>\n",
       "      <td>1</td>\n",
       "      <td>55-69</td>\n",
       "    </tr>\n",
       "    <tr>\n",
       "      <th>1</th>\n",
       "      <td>37</td>\n",
       "      <td>1</td>\n",
       "      <td>2</td>\n",
       "      <td>130</td>\n",
       "      <td>250</td>\n",
       "      <td>1</td>\n",
       "      <td>187</td>\n",
       "      <td>3.5</td>\n",
       "      <td>0</td>\n",
       "      <td>0</td>\n",
       "      <td>1</td>\n",
       "      <td>0-55</td>\n",
       "    </tr>\n",
       "    <tr>\n",
       "      <th>2</th>\n",
       "      <td>41</td>\n",
       "      <td>0</td>\n",
       "      <td>1</td>\n",
       "      <td>130</td>\n",
       "      <td>204</td>\n",
       "      <td>0</td>\n",
       "      <td>172</td>\n",
       "      <td>1.4</td>\n",
       "      <td>2</td>\n",
       "      <td>0</td>\n",
       "      <td>1</td>\n",
       "      <td>0-55</td>\n",
       "    </tr>\n",
       "    <tr>\n",
       "      <th>3</th>\n",
       "      <td>56</td>\n",
       "      <td>1</td>\n",
       "      <td>1</td>\n",
       "      <td>120</td>\n",
       "      <td>236</td>\n",
       "      <td>1</td>\n",
       "      <td>178</td>\n",
       "      <td>0.8</td>\n",
       "      <td>2</td>\n",
       "      <td>0</td>\n",
       "      <td>1</td>\n",
       "      <td>55-69</td>\n",
       "    </tr>\n",
       "    <tr>\n",
       "      <th>4</th>\n",
       "      <td>57</td>\n",
       "      <td>0</td>\n",
       "      <td>0</td>\n",
       "      <td>120</td>\n",
       "      <td>354</td>\n",
       "      <td>1</td>\n",
       "      <td>163</td>\n",
       "      <td>0.6</td>\n",
       "      <td>2</td>\n",
       "      <td>0</td>\n",
       "      <td>1</td>\n",
       "      <td>55-69</td>\n",
       "    </tr>\n",
       "  </tbody>\n",
       "</table>\n",
       "</div>"
      ],
      "text/plain": [
       "   age  sex  cp  trestbps  chol  restecg  thalach  oldpeak  slope  ca  target  \\\n",
       "0   63    1   3       145   233        0      150      2.3      0   0       1   \n",
       "1   37    1   2       130   250        1      187      3.5      0   0       1   \n",
       "2   41    0   1       130   204        0      172      1.4      2   0       1   \n",
       "3   56    1   1       120   236        1      178      0.8      2   0       1   \n",
       "4   57    0   0       120   354        1      163      0.6      2   0       1   \n",
       "\n",
       "  AgeStatus  \n",
       "0     55-69  \n",
       "1      0-55  \n",
       "2      0-55  \n",
       "3     55-69  \n",
       "4     55-69  "
      ]
     },
     "execution_count": 343,
     "metadata": {},
     "output_type": "execute_result"
    }
   ],
   "source": [
    "data['AgeStatus'] = np.nan\n",
    "data.loc[data.age < 55, 'AgeStatus'] = '0-55'\n",
    "data.loc[(data.age >= 55) & (data.age < 69), 'AgeStatus'] = '55-69'\n",
    "data.AgeStatus.fillna('>69', inplace=True)\n",
    "data.head()"
   ]
  },
  {
   "cell_type": "code",
   "execution_count": 344,
   "id": "3f89387f",
   "metadata": {},
   "outputs": [
    {
     "data": {
      "text/plain": [
       "<AxesSubplot:xlabel='AgeStatus', ylabel='count'>"
      ]
     },
     "execution_count": 344,
     "metadata": {},
     "output_type": "execute_result"
    },
    {
     "data": {
      "image/png": "[encoded data removed]",
      "text/plain": [
       "<Figure size 720x288 with 1 Axes>"
      ]
     },
     "metadata": {},
     "output_type": "display_data"
    }
   ],
   "source": [
    "plt.figure(figsize=(10,4))\n",
    "sns.countplot(data=data, x='AgeStatus', hue='target')"
   ]
  },
  {
   "cell_type": "markdown",
   "id": "903fc1a6",
   "metadata": {},
   "source": [
    "График нам еще раз показал, что в возрасте 0-55 больше шанс приступа, для группы 55-69 - ситуация обратная"
   ]
  },
  {
   "cell_type": "code",
   "execution_count": 345,
   "id": "78fd9097",
   "metadata": {},
   "outputs": [],
   "source": [
    "cols_cat = add_into_list(cols_cat, 'AgeStatus')"
   ]
  },
  {
   "cell_type": "markdown",
   "id": "38abc519",
   "metadata": {},
   "source": [
    "# Подготовка данных к моделированию"
   ]
  },
  {
   "cell_type": "markdown",
   "id": "af4068e4",
   "metadata": {},
   "source": [
    "## Разделение выборки на признаки и целевую переменную"
   ]
  },
  {
   "cell_type": "code",
   "execution_count": 346,
   "id": "aa1f853d",
   "metadata": {},
   "outputs": [
    {
     "data": {
      "text/html": [
       "<div>\n",
       "<style scoped>\n",
       "    .dataframe tbody tr th:only-of-type {\n",
       "        vertical-align: middle;\n",
       "    }\n",
       "\n",
       "    .dataframe tbody tr th {\n",
       "        vertical-align: top;\n",
       "    }\n",
       "\n",
       "    .dataframe thead th {\n",
       "        text-align: right;\n",
       "    }\n",
       "</style>\n",
       "<table border=\"1\" class=\"dataframe\">\n",
       "  <thead>\n",
       "    <tr style=\"text-align: right;\">\n",
       "      <th></th>\n",
       "      <th>age</th>\n",
       "      <th>sex</th>\n",
       "      <th>cp</th>\n",
       "      <th>trestbps</th>\n",
       "      <th>chol</th>\n",
       "      <th>restecg</th>\n",
       "      <th>thalach</th>\n",
       "      <th>oldpeak</th>\n",
       "      <th>slope</th>\n",
       "      <th>ca</th>\n",
       "      <th>AgeStatus</th>\n",
       "    </tr>\n",
       "  </thead>\n",
       "  <tbody>\n",
       "    <tr>\n",
       "      <th>0</th>\n",
       "      <td>63</td>\n",
       "      <td>1</td>\n",
       "      <td>3</td>\n",
       "      <td>145</td>\n",
       "      <td>233</td>\n",
       "      <td>0</td>\n",
       "      <td>150</td>\n",
       "      <td>2.3</td>\n",
       "      <td>0</td>\n",
       "      <td>0</td>\n",
       "      <td>55-69</td>\n",
       "    </tr>\n",
       "    <tr>\n",
       "      <th>1</th>\n",
       "      <td>37</td>\n",
       "      <td>1</td>\n",
       "      <td>2</td>\n",
       "      <td>130</td>\n",
       "      <td>250</td>\n",
       "      <td>1</td>\n",
       "      <td>187</td>\n",
       "      <td>3.5</td>\n",
       "      <td>0</td>\n",
       "      <td>0</td>\n",
       "      <td>0-55</td>\n",
       "    </tr>\n",
       "    <tr>\n",
       "      <th>2</th>\n",
       "      <td>41</td>\n",
       "      <td>0</td>\n",
       "      <td>1</td>\n",
       "      <td>130</td>\n",
       "      <td>204</td>\n",
       "      <td>0</td>\n",
       "      <td>172</td>\n",
       "      <td>1.4</td>\n",
       "      <td>2</td>\n",
       "      <td>0</td>\n",
       "      <td>0-55</td>\n",
       "    </tr>\n",
       "    <tr>\n",
       "      <th>3</th>\n",
       "      <td>56</td>\n",
       "      <td>1</td>\n",
       "      <td>1</td>\n",
       "      <td>120</td>\n",
       "      <td>236</td>\n",
       "      <td>1</td>\n",
       "      <td>178</td>\n",
       "      <td>0.8</td>\n",
       "      <td>2</td>\n",
       "      <td>0</td>\n",
       "      <td>55-69</td>\n",
       "    </tr>\n",
       "    <tr>\n",
       "      <th>4</th>\n",
       "      <td>57</td>\n",
       "      <td>0</td>\n",
       "      <td>0</td>\n",
       "      <td>120</td>\n",
       "      <td>354</td>\n",
       "      <td>1</td>\n",
       "      <td>163</td>\n",
       "      <td>0.6</td>\n",
       "      <td>2</td>\n",
       "      <td>0</td>\n",
       "      <td>55-69</td>\n",
       "    </tr>\n",
       "  </tbody>\n",
       "</table>\n",
       "</div>"
      ],
      "text/plain": [
       "   age  sex  cp  trestbps  chol  restecg  thalach  oldpeak  slope  ca  \\\n",
       "0   63    1   3       145   233        0      150      2.3      0   0   \n",
       "1   37    1   2       130   250        1      187      3.5      0   0   \n",
       "2   41    0   1       130   204        0      172      1.4      2   0   \n",
       "3   56    1   1       120   236        1      178      0.8      2   0   \n",
       "4   57    0   0       120   354        1      163      0.6      2   0   \n",
       "\n",
       "  AgeStatus  \n",
       "0     55-69  \n",
       "1      0-55  \n",
       "2      0-55  \n",
       "3     55-69  \n",
       "4     55-69  "
      ]
     },
     "execution_count": 346,
     "metadata": {},
     "output_type": "execute_result"
    }
   ],
   "source": [
    "X = data.drop(columns=['target'], axis=1).copy()\n",
    "y = data.target.copy()\n",
    "X.head()"
   ]
  },
  {
   "cell_type": "markdown",
   "id": "37038f95",
   "metadata": {},
   "source": [
    "## Удаление признаков"
   ]
  },
  {
   "cell_type": "markdown",
   "id": "e5d2c2d4",
   "metadata": {},
   "source": [
    "удалим наш признак age, тк мы его заменили на AgeStatus"
   ]
  },
  {
   "cell_type": "code",
   "execution_count": 347,
   "id": "14343853",
   "metadata": {},
   "outputs": [],
   "source": [
    "col_for_del = ['age']\n",
    "X = X.drop(col_for_del, axis=1)"
   ]
  },
  {
   "cell_type": "code",
   "execution_count": 348,
   "id": "3d26ca1a",
   "metadata": {},
   "outputs": [
    {
     "data": {
      "text/plain": [
       "array(['chol', 'oldpeak', 'thalach', 'trestbps'], dtype='<U8')"
      ]
     },
     "execution_count": 348,
     "metadata": {},
     "output_type": "execute_result"
    }
   ],
   "source": [
    "cols_num = del_from_list(cols_num, col_for_del)\n",
    "cols_num"
   ]
  },
  {
   "cell_type": "markdown",
   "id": "0fd88f9e",
   "metadata": {},
   "source": [
    "## Нормализация числовых признаков\n"
   ]
  },
  {
   "cell_type": "code",
   "execution_count": 349,
   "id": "e80f5f16",
   "metadata": {},
   "outputs": [
    {
     "data": {
      "text/html": [
       "<div>\n",
       "<style scoped>\n",
       "    .dataframe tbody tr th:only-of-type {\n",
       "        vertical-align: middle;\n",
       "    }\n",
       "\n",
       "    .dataframe tbody tr th {\n",
       "        vertical-align: top;\n",
       "    }\n",
       "\n",
       "    .dataframe thead th {\n",
       "        text-align: right;\n",
       "    }\n",
       "</style>\n",
       "<table border=\"1\" class=\"dataframe\">\n",
       "  <thead>\n",
       "    <tr style=\"text-align: right;\">\n",
       "      <th></th>\n",
       "      <th>chol</th>\n",
       "      <th>oldpeak</th>\n",
       "      <th>thalach</th>\n",
       "      <th>trestbps</th>\n",
       "    </tr>\n",
       "  </thead>\n",
       "  <tbody>\n",
       "    <tr>\n",
       "      <th>0</th>\n",
       "      <td>233</td>\n",
       "      <td>2.3</td>\n",
       "      <td>150</td>\n",
       "      <td>145</td>\n",
       "    </tr>\n",
       "    <tr>\n",
       "      <th>1</th>\n",
       "      <td>250</td>\n",
       "      <td>3.5</td>\n",
       "      <td>187</td>\n",
       "      <td>130</td>\n",
       "    </tr>\n",
       "    <tr>\n",
       "      <th>2</th>\n",
       "      <td>204</td>\n",
       "      <td>1.4</td>\n",
       "      <td>172</td>\n",
       "      <td>130</td>\n",
       "    </tr>\n",
       "    <tr>\n",
       "      <th>3</th>\n",
       "      <td>236</td>\n",
       "      <td>0.8</td>\n",
       "      <td>178</td>\n",
       "      <td>120</td>\n",
       "    </tr>\n",
       "    <tr>\n",
       "      <th>4</th>\n",
       "      <td>354</td>\n",
       "      <td>0.6</td>\n",
       "      <td>163</td>\n",
       "      <td>120</td>\n",
       "    </tr>\n",
       "  </tbody>\n",
       "</table>\n",
       "</div>"
      ],
      "text/plain": [
       "   chol  oldpeak  thalach  trestbps\n",
       "0   233      2.3      150       145\n",
       "1   250      3.5      187       130\n",
       "2   204      1.4      172       130\n",
       "3   236      0.8      178       120\n",
       "4   354      0.6      163       120"
      ]
     },
     "execution_count": 349,
     "metadata": {},
     "output_type": "execute_result"
    }
   ],
   "source": [
    "X[cols_num].head()"
   ]
  },
  {
   "cell_type": "code",
   "execution_count": 350,
   "id": "96416372",
   "metadata": {},
   "outputs": [
    {
     "data": {
      "text/html": [
       "<div>\n",
       "<style scoped>\n",
       "    .dataframe tbody tr th:only-of-type {\n",
       "        vertical-align: middle;\n",
       "    }\n",
       "\n",
       "    .dataframe tbody tr th {\n",
       "        vertical-align: top;\n",
       "    }\n",
       "\n",
       "    .dataframe thead th {\n",
       "        text-align: right;\n",
       "    }\n",
       "</style>\n",
       "<table border=\"1\" class=\"dataframe\">\n",
       "  <thead>\n",
       "    <tr style=\"text-align: right;\">\n",
       "      <th></th>\n",
       "      <th>chol</th>\n",
       "      <th>oldpeak</th>\n",
       "      <th>thalach</th>\n",
       "      <th>trestbps</th>\n",
       "    </tr>\n",
       "  </thead>\n",
       "  <tbody>\n",
       "    <tr>\n",
       "      <th>0</th>\n",
       "      <td>-0.259627</td>\n",
       "      <td>1.197010</td>\n",
       "      <td>0.006805</td>\n",
       "      <td>0.826920</td>\n",
       "    </tr>\n",
       "    <tr>\n",
       "      <th>1</th>\n",
       "      <td>0.091379</td>\n",
       "      <td>2.303667</td>\n",
       "      <td>1.662927</td>\n",
       "      <td>-0.067919</td>\n",
       "    </tr>\n",
       "    <tr>\n",
       "      <th>2</th>\n",
       "      <td>-0.858400</td>\n",
       "      <td>0.367017</td>\n",
       "      <td>0.991526</td>\n",
       "      <td>-0.067919</td>\n",
       "    </tr>\n",
       "    <tr>\n",
       "      <th>3</th>\n",
       "      <td>-0.197685</td>\n",
       "      <td>-0.186312</td>\n",
       "      <td>1.260087</td>\n",
       "      <td>-0.664479</td>\n",
       "    </tr>\n",
       "    <tr>\n",
       "      <th>4</th>\n",
       "      <td>2.238705</td>\n",
       "      <td>-0.370755</td>\n",
       "      <td>0.588686</td>\n",
       "      <td>-0.664479</td>\n",
       "    </tr>\n",
       "  </tbody>\n",
       "</table>\n",
       "</div>"
      ],
      "text/plain": [
       "       chol   oldpeak   thalach  trestbps\n",
       "0 -0.259627  1.197010  0.006805  0.826920\n",
       "1  0.091379  2.303667  1.662927 -0.067919\n",
       "2 -0.858400  0.367017  0.991526 -0.067919\n",
       "3 -0.197685 -0.186312  1.260087 -0.664479\n",
       "4  2.238705 -0.370755  0.588686 -0.664479"
      ]
     },
     "execution_count": 350,
     "metadata": {},
     "output_type": "execute_result"
    }
   ],
   "source": [
    "sc = StandardScaler()\n",
    "X[cols_num] = sc.fit_transform(X[cols_num])\n",
    "X[cols_num].head()"
   ]
  },
  {
   "cell_type": "markdown",
   "id": "eae834d1",
   "metadata": {},
   "source": [
    "# Кодирование Категориальных признаков"
   ]
  },
  {
   "cell_type": "code",
   "execution_count": 351,
   "id": "5d5e2d5a",
   "metadata": {},
   "outputs": [
    {
     "data": {
      "text/html": [
       "<div>\n",
       "<style scoped>\n",
       "    .dataframe tbody tr th:only-of-type {\n",
       "        vertical-align: middle;\n",
       "    }\n",
       "\n",
       "    .dataframe tbody tr th {\n",
       "        vertical-align: top;\n",
       "    }\n",
       "\n",
       "    .dataframe thead th {\n",
       "        text-align: right;\n",
       "    }\n",
       "</style>\n",
       "<table border=\"1\" class=\"dataframe\">\n",
       "  <thead>\n",
       "    <tr style=\"text-align: right;\">\n",
       "      <th></th>\n",
       "      <th>ca</th>\n",
       "      <th>cp</th>\n",
       "      <th>restecg</th>\n",
       "      <th>sex</th>\n",
       "      <th>slope</th>\n",
       "      <th>AgeStatus</th>\n",
       "    </tr>\n",
       "  </thead>\n",
       "  <tbody>\n",
       "    <tr>\n",
       "      <th>0</th>\n",
       "      <td>0</td>\n",
       "      <td>3</td>\n",
       "      <td>0</td>\n",
       "      <td>1</td>\n",
       "      <td>0</td>\n",
       "      <td>55-69</td>\n",
       "    </tr>\n",
       "    <tr>\n",
       "      <th>1</th>\n",
       "      <td>0</td>\n",
       "      <td>2</td>\n",
       "      <td>1</td>\n",
       "      <td>1</td>\n",
       "      <td>0</td>\n",
       "      <td>0-55</td>\n",
       "    </tr>\n",
       "    <tr>\n",
       "      <th>2</th>\n",
       "      <td>0</td>\n",
       "      <td>1</td>\n",
       "      <td>0</td>\n",
       "      <td>0</td>\n",
       "      <td>2</td>\n",
       "      <td>0-55</td>\n",
       "    </tr>\n",
       "    <tr>\n",
       "      <th>3</th>\n",
       "      <td>0</td>\n",
       "      <td>1</td>\n",
       "      <td>1</td>\n",
       "      <td>1</td>\n",
       "      <td>2</td>\n",
       "      <td>55-69</td>\n",
       "    </tr>\n",
       "    <tr>\n",
       "      <th>4</th>\n",
       "      <td>0</td>\n",
       "      <td>0</td>\n",
       "      <td>1</td>\n",
       "      <td>0</td>\n",
       "      <td>2</td>\n",
       "      <td>55-69</td>\n",
       "    </tr>\n",
       "    <tr>\n",
       "      <th>...</th>\n",
       "      <td>...</td>\n",
       "      <td>...</td>\n",
       "      <td>...</td>\n",
       "      <td>...</td>\n",
       "      <td>...</td>\n",
       "      <td>...</td>\n",
       "    </tr>\n",
       "    <tr>\n",
       "      <th>298</th>\n",
       "      <td>0</td>\n",
       "      <td>0</td>\n",
       "      <td>1</td>\n",
       "      <td>0</td>\n",
       "      <td>1</td>\n",
       "      <td>55-69</td>\n",
       "    </tr>\n",
       "    <tr>\n",
       "      <th>299</th>\n",
       "      <td>0</td>\n",
       "      <td>3</td>\n",
       "      <td>1</td>\n",
       "      <td>1</td>\n",
       "      <td>1</td>\n",
       "      <td>0-55</td>\n",
       "    </tr>\n",
       "    <tr>\n",
       "      <th>300</th>\n",
       "      <td>2</td>\n",
       "      <td>0</td>\n",
       "      <td>1</td>\n",
       "      <td>1</td>\n",
       "      <td>1</td>\n",
       "      <td>55-69</td>\n",
       "    </tr>\n",
       "    <tr>\n",
       "      <th>301</th>\n",
       "      <td>1</td>\n",
       "      <td>0</td>\n",
       "      <td>1</td>\n",
       "      <td>1</td>\n",
       "      <td>1</td>\n",
       "      <td>55-69</td>\n",
       "    </tr>\n",
       "    <tr>\n",
       "      <th>302</th>\n",
       "      <td>1</td>\n",
       "      <td>1</td>\n",
       "      <td>0</td>\n",
       "      <td>0</td>\n",
       "      <td>1</td>\n",
       "      <td>55-69</td>\n",
       "    </tr>\n",
       "  </tbody>\n",
       "</table>\n",
       "<p>296 rows × 6 columns</p>\n",
       "</div>"
      ],
      "text/plain": [
       "     ca  cp  restecg  sex  slope AgeStatus\n",
       "0     0   3        0    1      0     55-69\n",
       "1     0   2        1    1      0      0-55\n",
       "2     0   1        0    0      2      0-55\n",
       "3     0   1        1    1      2     55-69\n",
       "4     0   0        1    0      2     55-69\n",
       "..   ..  ..      ...  ...    ...       ...\n",
       "298   0   0        1    0      1     55-69\n",
       "299   0   3        1    1      1      0-55\n",
       "300   2   0        1    1      1     55-69\n",
       "301   1   0        1    1      1     55-69\n",
       "302   1   1        0    0      1     55-69\n",
       "\n",
       "[296 rows x 6 columns]"
      ]
     },
     "execution_count": 351,
     "metadata": {},
     "output_type": "execute_result"
    }
   ],
   "source": [
    "X[cols_cat]"
   ]
  },
  {
   "cell_type": "markdown",
   "id": "db68cd52",
   "metadata": {},
   "source": [
    "sex кодировать не будем - там всего 2 значения 0 и 1"
   ]
  },
  {
   "cell_type": "code",
   "execution_count": 352,
   "id": "c975c016",
   "metadata": {},
   "outputs": [
    {
     "data": {
      "text/html": [
       "<div>\n",
       "<style scoped>\n",
       "    .dataframe tbody tr th:only-of-type {\n",
       "        vertical-align: middle;\n",
       "    }\n",
       "\n",
       "    .dataframe tbody tr th {\n",
       "        vertical-align: top;\n",
       "    }\n",
       "\n",
       "    .dataframe thead th {\n",
       "        text-align: right;\n",
       "    }\n",
       "</style>\n",
       "<table border=\"1\" class=\"dataframe\">\n",
       "  <thead>\n",
       "    <tr style=\"text-align: right;\">\n",
       "      <th></th>\n",
       "      <th>sex</th>\n",
       "      <th>trestbps</th>\n",
       "      <th>chol</th>\n",
       "      <th>thalach</th>\n",
       "      <th>oldpeak</th>\n",
       "      <th>ca_0</th>\n",
       "      <th>ca_1</th>\n",
       "      <th>ca_2</th>\n",
       "      <th>ca_3</th>\n",
       "      <th>ca_4</th>\n",
       "      <th>...</th>\n",
       "      <th>cp_3</th>\n",
       "      <th>restecg_0</th>\n",
       "      <th>restecg_1</th>\n",
       "      <th>restecg_2</th>\n",
       "      <th>slope_0</th>\n",
       "      <th>slope_1</th>\n",
       "      <th>slope_2</th>\n",
       "      <th>AgeStatus_0-55</th>\n",
       "      <th>AgeStatus_55-69</th>\n",
       "      <th>AgeStatus_&gt;69</th>\n",
       "    </tr>\n",
       "  </thead>\n",
       "  <tbody>\n",
       "    <tr>\n",
       "      <th>0</th>\n",
       "      <td>1</td>\n",
       "      <td>0.826920</td>\n",
       "      <td>-0.259627</td>\n",
       "      <td>0.006805</td>\n",
       "      <td>1.197010</td>\n",
       "      <td>1</td>\n",
       "      <td>0</td>\n",
       "      <td>0</td>\n",
       "      <td>0</td>\n",
       "      <td>0</td>\n",
       "      <td>...</td>\n",
       "      <td>1</td>\n",
       "      <td>1</td>\n",
       "      <td>0</td>\n",
       "      <td>0</td>\n",
       "      <td>1</td>\n",
       "      <td>0</td>\n",
       "      <td>0</td>\n",
       "      <td>0</td>\n",
       "      <td>1</td>\n",
       "      <td>0</td>\n",
       "    </tr>\n",
       "    <tr>\n",
       "      <th>1</th>\n",
       "      <td>1</td>\n",
       "      <td>-0.067919</td>\n",
       "      <td>0.091379</td>\n",
       "      <td>1.662927</td>\n",
       "      <td>2.303667</td>\n",
       "      <td>1</td>\n",
       "      <td>0</td>\n",
       "      <td>0</td>\n",
       "      <td>0</td>\n",
       "      <td>0</td>\n",
       "      <td>...</td>\n",
       "      <td>0</td>\n",
       "      <td>0</td>\n",
       "      <td>1</td>\n",
       "      <td>0</td>\n",
       "      <td>1</td>\n",
       "      <td>0</td>\n",
       "      <td>0</td>\n",
       "      <td>1</td>\n",
       "      <td>0</td>\n",
       "      <td>0</td>\n",
       "    </tr>\n",
       "    <tr>\n",
       "      <th>2</th>\n",
       "      <td>0</td>\n",
       "      <td>-0.067919</td>\n",
       "      <td>-0.858400</td>\n",
       "      <td>0.991526</td>\n",
       "      <td>0.367017</td>\n",
       "      <td>1</td>\n",
       "      <td>0</td>\n",
       "      <td>0</td>\n",
       "      <td>0</td>\n",
       "      <td>0</td>\n",
       "      <td>...</td>\n",
       "      <td>0</td>\n",
       "      <td>1</td>\n",
       "      <td>0</td>\n",
       "      <td>0</td>\n",
       "      <td>0</td>\n",
       "      <td>0</td>\n",
       "      <td>1</td>\n",
       "      <td>1</td>\n",
       "      <td>0</td>\n",
       "      <td>0</td>\n",
       "    </tr>\n",
       "    <tr>\n",
       "      <th>3</th>\n",
       "      <td>1</td>\n",
       "      <td>-0.664479</td>\n",
       "      <td>-0.197685</td>\n",
       "      <td>1.260087</td>\n",
       "      <td>-0.186312</td>\n",
       "      <td>1</td>\n",
       "      <td>0</td>\n",
       "      <td>0</td>\n",
       "      <td>0</td>\n",
       "      <td>0</td>\n",
       "      <td>...</td>\n",
       "      <td>0</td>\n",
       "      <td>0</td>\n",
       "      <td>1</td>\n",
       "      <td>0</td>\n",
       "      <td>0</td>\n",
       "      <td>0</td>\n",
       "      <td>1</td>\n",
       "      <td>0</td>\n",
       "      <td>1</td>\n",
       "      <td>0</td>\n",
       "    </tr>\n",
       "    <tr>\n",
       "      <th>4</th>\n",
       "      <td>0</td>\n",
       "      <td>-0.664479</td>\n",
       "      <td>2.238705</td>\n",
       "      <td>0.588686</td>\n",
       "      <td>-0.370755</td>\n",
       "      <td>1</td>\n",
       "      <td>0</td>\n",
       "      <td>0</td>\n",
       "      <td>0</td>\n",
       "      <td>0</td>\n",
       "      <td>...</td>\n",
       "      <td>0</td>\n",
       "      <td>0</td>\n",
       "      <td>1</td>\n",
       "      <td>0</td>\n",
       "      <td>0</td>\n",
       "      <td>0</td>\n",
       "      <td>1</td>\n",
       "      <td>0</td>\n",
       "      <td>1</td>\n",
       "      <td>0</td>\n",
       "    </tr>\n",
       "  </tbody>\n",
       "</table>\n",
       "<p>5 rows × 23 columns</p>\n",
       "</div>"
      ],
      "text/plain": [
       "   sex  trestbps      chol   thalach   oldpeak  ca_0  ca_1  ca_2  ca_3  ca_4  \\\n",
       "0    1  0.826920 -0.259627  0.006805  1.197010     1     0     0     0     0   \n",
       "1    1 -0.067919  0.091379  1.662927  2.303667     1     0     0     0     0   \n",
       "2    0 -0.067919 -0.858400  0.991526  0.367017     1     0     0     0     0   \n",
       "3    1 -0.664479 -0.197685  1.260087 -0.186312     1     0     0     0     0   \n",
       "4    0 -0.664479  2.238705  0.588686 -0.370755     1     0     0     0     0   \n",
       "\n",
       "   ...  cp_3  restecg_0  restecg_1  restecg_2  slope_0  slope_1  slope_2  \\\n",
       "0  ...     1          1          0          0        1        0        0   \n",
       "1  ...     0          0          1          0        1        0        0   \n",
       "2  ...     0          1          0          0        0        0        1   \n",
       "3  ...     0          0          1          0        0        0        1   \n",
       "4  ...     0          0          1          0        0        0        1   \n",
       "\n",
       "   AgeStatus_0-55  AgeStatus_55-69  AgeStatus_>69  \n",
       "0               0                1              0  \n",
       "1               1                0              0  \n",
       "2               1                0              0  \n",
       "3               0                1              0  \n",
       "4               0                1              0  \n",
       "\n",
       "[5 rows x 23 columns]"
      ]
     },
     "execution_count": 352,
     "metadata": {},
     "output_type": "execute_result"
    }
   ],
   "source": [
    "X = pd.get_dummies(X, columns=[col for col in cols_cat if col != 'sex'])\n",
    "X.head()"
   ]
  },
  {
   "cell_type": "markdown",
   "id": "b015c1de",
   "metadata": {},
   "source": [
    "# Моделирование"
   ]
  },
  {
   "cell_type": "markdown",
   "id": "f5cbc95c",
   "metadata": {},
   "source": [
    "## Сравнение простых моделей с параметрами по умолчанию для выбора наилучшей модели"
   ]
  },
  {
   "cell_type": "markdown",
   "id": "3bb5eb9e",
   "metadata": {},
   "source": [
    "Будем сравнивать предсказания следующих методов классификации:\n",
    "\n",
    "Support Vector Machines\n",
    "Random Forests\n",
    "Logistic Regression"
   ]
  },
  {
   "cell_type": "code",
   "execution_count": 353,
   "id": "f76a11ae",
   "metadata": {},
   "outputs": [],
   "source": [
    "X_train, X_valid, y_train, y_valid = train_test_split(X,\n",
    "                                                    y,\n",
    "                                                    test_size=SPLIT_TEST_SIZE,\n",
    "                                                    random_state=RANDOM_STATE)"
   ]
  },
  {
   "cell_type": "code",
   "execution_count": 354,
   "id": "570ccabd",
   "metadata": {},
   "outputs": [
    {
     "name": "stdout",
     "output_type": "stream",
     "text": [
      "model: SVC(class_weight='balanced', random_state=100)\n",
      "f1_score: 0.8709677419354839\n",
      "______________________________ \n",
      "\n",
      "model: RandomForestClassifier(class_weight='balanced')\n",
      "f1_score: 0.8571428571428571\n",
      "______________________________ \n",
      "\n",
      "model: LogisticRegression(class_weight='balanced', max_iter=3000, random_state=100)\n",
      "f1_score: 0.8888888888888888\n",
      "______________________________ \n",
      "\n"
     ]
    }
   ],
   "source": [
    "models = [SVC(class_weight='balanced', random_state=RANDOM_STATE),  RandomForestClassifier(class_weight='balanced'), LogisticRegression(class_weight='balanced', random_state=RANDOM_STATE, max_iter=3000)]\n",
    "for m in models:\n",
    "    m.fit(X_train, y_train)\n",
    "    y_pred = m.predict(X_valid)\n",
    "    print(f'model: {str(m)}')\n",
    "    print(f'f1_score: {str(f1_score(y_valid, y_pred))}')\n",
    "    print('_'*30, '\\n')"
   ]
  },
  {
   "cell_type": "markdown",
   "id": "fa0750fe",
   "metadata": {},
   "source": [
    "Модели SVC и LogisticRegression показали лучшие результаты, давайте возьмем обе эти модели, построив ансамбль"
   ]
  },
  {
   "cell_type": "markdown",
   "id": "8754b63a",
   "metadata": {},
   "source": [
    "## Подбор параметров"
   ]
  },
  {
   "cell_type": "code",
   "execution_count": 355,
   "id": "b0dd511d",
   "metadata": {},
   "outputs": [],
   "source": [
    "classifiers = {\n",
    "    'SVC' : SVC(class_weight='balanced', random_state=RANDOM_STATE),\n",
    "    'LogisticRegression' : LogisticRegression(max_iter=3000, class_weight='balanced', \\\n",
    "                                              random_state=RANDOM_STATE, n_jobs=-1)\n",
    "    \n",
    "}\n",
    "\n",
    "svc_grid = {\n",
    "    'kernel':('linear', 'rbf'), \n",
    "#     'C':[0.1, 0.7, 0.5, 1, 2]\n",
    "}\n",
    "logist_grid = {\n",
    "    'C': [0.1, 1, 1.5, 3]\n",
    "}\n",
    "\n",
    "grid = {\n",
    "    'SVC' : svc_grid,\n",
    "    'LogisticRegression' : logist_grid\n",
    "    \n",
    "}"
   ]
  },
  {
   "cell_type": "code",
   "execution_count": 356,
   "id": "8197fbfe",
   "metadata": {},
   "outputs": [],
   "source": [
    "i=0\n",
    "result_models = pd.DataFrame({'model': classifiers.keys(), 'Validation f1 score':np.zeros(len(classifiers)), \\\n",
    "                             'Best params': np.zeros(len(classifiers))})\n",
    "clf_best_params = classifiers.copy()                            \n",
    "for key, m in classifiers.items():\n",
    "    \n",
    "    cv = StratifiedKFold(n_splits=NUM_SPLIT_FOR_GRID, shuffle=True, random_state=RANDOM_STATE)\n",
    "    \n",
    "    clf = GridSearchCV(estimator=m, param_grid=grid[key], n_jobs=-1, cv=cv, \\\n",
    "                       scoring=make_scorer(f1_score))\n",
    "    \n",
    "    clf.fit(X_train, y_train)\n",
    "    \n",
    "    y_pred = clf.predict(X_valid)\n",
    "    result_models.iloc[i, 1] = f1_score(y_valid, y_pred)\n",
    "\n",
    "    \n",
    "    result_models.iloc[i, 2] = str(clf.best_params_)\n",
    "    \n",
    "    clf_best_params[key] = clf.best_params_\n",
    "    i += 1"
   ]
  },
  {
   "cell_type": "code",
   "execution_count": 357,
   "id": "931f2132",
   "metadata": {},
   "outputs": [
    {
     "data": {
      "text/html": [
       "<div>\n",
       "<style scoped>\n",
       "    .dataframe tbody tr th:only-of-type {\n",
       "        vertical-align: middle;\n",
       "    }\n",
       "\n",
       "    .dataframe tbody tr th {\n",
       "        vertical-align: top;\n",
       "    }\n",
       "\n",
       "    .dataframe thead th {\n",
       "        text-align: right;\n",
       "    }\n",
       "</style>\n",
       "<table border=\"1\" class=\"dataframe\">\n",
       "  <thead>\n",
       "    <tr style=\"text-align: right;\">\n",
       "      <th></th>\n",
       "      <th>model</th>\n",
       "      <th>Validation f1 score</th>\n",
       "      <th>Best params</th>\n",
       "    </tr>\n",
       "  </thead>\n",
       "  <tbody>\n",
       "    <tr>\n",
       "      <th>0</th>\n",
       "      <td>SVC</td>\n",
       "      <td>0.875000</td>\n",
       "      <td>{'kernel': 'linear'}</td>\n",
       "    </tr>\n",
       "    <tr>\n",
       "      <th>1</th>\n",
       "      <td>LogisticRegression</td>\n",
       "      <td>0.888889</td>\n",
       "      <td>{'C': 1}</td>\n",
       "    </tr>\n",
       "  </tbody>\n",
       "</table>\n",
       "</div>"
      ],
      "text/plain": [
       "                model  Validation f1 score           Best params\n",
       "0                 SVC             0.875000  {'kernel': 'linear'}\n",
       "1  LogisticRegression             0.888889              {'C': 1}"
      ]
     },
     "execution_count": 357,
     "metadata": {},
     "output_type": "execute_result"
    }
   ],
   "source": [
    "result_models"
   ]
  },
  {
   "cell_type": "code",
   "execution_count": 358,
   "id": "8cc17d93",
   "metadata": {},
   "outputs": [
    {
     "data": {
      "text/plain": [
       "{'SVC': {'kernel': 'linear'}, 'LogisticRegression': {'C': 1}}"
      ]
     },
     "execution_count": 358,
     "metadata": {},
     "output_type": "execute_result"
    }
   ],
   "source": [
    "clf_best_params"
   ]
  },
  {
   "cell_type": "markdown",
   "id": "88318109",
   "metadata": {},
   "source": [
    "## Построение модели и предсказание"
   ]
  },
  {
   "cell_type": "code",
   "execution_count": 359,
   "id": "4615349a",
   "metadata": {},
   "outputs": [],
   "source": [
    "# определяем лучшую модель\n",
    "best_classifiers = {\n",
    "    \"SVC\" : SVC(**clf_best_params[\"SVC\"],probability=True, class_weight='balanced', random_state=RANDOM_STATE),\n",
    "    \"LogisticRegression\" : LogisticRegression(**clf_best_params[\"LogisticRegression\"], max_iter=3000, \\\n",
    "                                              class_weight='balanced', random_state=RANDOM_STATE, n_jobs=-1)\n",
    "}\n",
    "\n"
   ]
  },
  {
   "cell_type": "code",
   "execution_count": 360,
   "id": "9365b3ab",
   "metadata": {},
   "outputs": [
    {
     "data": {
      "text/plain": [
       "array([0.87623305, 0.07056832, 0.53781677, 0.17878859, 0.10299264,\n",
       "       0.35981115, 0.95216255, 0.58404259, 0.94902969, 0.96710395,\n",
       "       0.30353168, 0.91238156, 0.05368744, 0.37840977, 0.88514044,\n",
       "       0.45772359, 0.76629314, 0.41242311, 0.96251162, 0.01274051,\n",
       "       0.22745472, 0.85430075, 0.15120552, 0.57551317, 0.0346033 ,\n",
       "       0.64563188, 0.32900062, 0.03532672, 0.97412496, 0.98277751,\n",
       "       0.31818738, 0.8124065 , 0.92829017, 0.29926306, 0.0249162 ,\n",
       "       0.78773339, 0.10693776, 0.24211953, 0.93703423, 0.02969575,\n",
       "       0.72261789, 0.01628488, 0.72900668, 0.9948442 , 0.66283721,\n",
       "       0.82292206, 0.40071348, 0.52749778, 0.97307515, 0.03275796,\n",
       "       0.91183136, 0.19316376, 0.75484669, 0.60097817, 0.85717727,\n",
       "       0.08783439, 0.91885243, 0.9241272 , 0.57902495, 0.653684  ])"
      ]
     },
     "execution_count": 360,
     "metadata": {},
     "output_type": "execute_result"
    }
   ],
   "source": [
    "preds = np.zeros(len(X_valid))\n",
    "for key, classifier in best_classifiers.items():\n",
    "    clf = classifier\n",
    "    clf.fit(X_train, y_train)\n",
    "           \n",
    "    preds += clf.predict_proba(X_valid)[:,1]\n",
    "\n",
    "# результат - это средний результат по всем классификаторам    \n",
    "preds = preds/len(best_classifiers)\n",
    "preds "
   ]
  },
  {
   "cell_type": "code",
   "execution_count": 361,
   "id": "61b03039",
   "metadata": {},
   "outputs": [
    {
     "data": {
      "text/plain": [
       "Text(0.5, 0, 'Probability')"
      ]
     },
     "execution_count": 361,
     "metadata": {},
     "output_type": "execute_result"
    },
    {
     "data": {
      "image/png": "[encoded data removed]",
      "text/plain": [
       "<Figure size 720x288 with 1 Axes>"
      ]
     },
     "metadata": {},
     "output_type": "display_data"
    }
   ],
   "source": [
    "plt.figure(figsize=(10,4))\n",
    "sns.histplot(preds, binwidth=0.1, kde=True)\n",
    "plt.title('Predicted probabilities')\n",
    "plt.xlabel('Probability')"
   ]
  },
  {
   "cell_type": "markdown",
   "id": "ac60e058",
   "metadata": {},
   "source": [
    "По графику видим, что подавляющее большинство предсказывается обеими моделями одинаково, спорных от 0.4 до 0.5 всего 1 наюлюдение\n",
    "\n",
    "Выберем порог предсказания 1-го класса [0.5,1]"
   ]
  },
  {
   "cell_type": "code",
   "execution_count": 362,
   "id": "732108ab",
   "metadata": {},
   "outputs": [
    {
     "data": {
      "text/plain": [
       "array([1, 0, 1, 0, 0, 0, 1, 1, 1, 1, 0, 1, 0, 0, 1, 0, 1, 0, 1, 0, 0, 1,\n",
       "       0, 1, 0, 1, 0, 0, 1, 1, 0, 1, 1, 0, 0, 1, 0, 0, 1, 0, 1, 0, 1, 1,\n",
       "       1, 1, 0, 1, 1, 0, 1, 0, 1, 1, 1, 0, 1, 1, 1, 1])"
      ]
     },
     "execution_count": 362,
     "metadata": {},
     "output_type": "execute_result"
    }
   ],
   "source": [
    "y_pred = (preds>0.5).astype(int)\n",
    "y_pred"
   ]
  },
  {
   "cell_type": "code",
   "execution_count": 363,
   "id": "744117aa",
   "metadata": {},
   "outputs": [
    {
     "data": {
      "text/plain": [
       "0.8923076923076922"
      ]
     },
     "execution_count": 363,
     "metadata": {},
     "output_type": "execute_result"
    }
   ],
   "source": [
    "f1_score(y_valid, y_pred)"
   ]
  },
  {
   "cell_type": "markdown",
   "id": "aa749c0f",
   "metadata": {},
   "source": [
    "Благодаря ансамблю из двух моделей нам удалось увеличить точность предсказания"
   ]
  },
  {
   "cell_type": "markdown",
   "id": "8f622cdf",
   "metadata": {},
   "source": [
    "## Анализ результатов"
   ]
  },
  {
   "cell_type": "code",
   "execution_count": 364,
   "id": "2964aa17",
   "metadata": {},
   "outputs": [
    {
     "name": "stdout",
     "output_type": "stream",
     "text": [
      "Confusion matrix:\n",
      "[[24  5]\n",
      " [ 2 29]]\n",
      "Classification Report:\n",
      "              precision    recall  f1-score   support\n",
      "\n",
      "           0       0.92      0.83      0.87        29\n",
      "           1       0.85      0.94      0.89        31\n",
      "\n",
      "    accuracy                           0.88        60\n",
      "   macro avg       0.89      0.88      0.88        60\n",
      "weighted avg       0.89      0.88      0.88        60\n",
      "\n"
     ]
    }
   ],
   "source": [
    "print('Confusion matrix:')\n",
    "print(confusion_matrix(y_valid, y_pred))\n",
    "print('Classification Report:')\n",
    "print(classification_report(y_valid, y_pred))"
   ]
  },
  {
   "cell_type": "markdown",
   "id": "11204733",
   "metadata": {},
   "source": [
    "Визуализируем полученные результаты при помощи confusion matrix\n"
   ]
  },
  {
   "cell_type": "code",
   "execution_count": 365,
   "id": "52deca8d",
   "metadata": {
    "scrolled": true
   },
   "outputs": [
    {
     "data": {
      "text/plain": [
       "Text(66.5, 0.5, 'Actual')"
      ]
     },
     "execution_count": 365,
     "metadata": {},
     "output_type": "execute_result"
    },
    {
     "data": {
      "image/png": "[encoded data removed]",
      "text/plain": [
       "<Figure size 720x720 with 2 Axes>"
      ]
     },
     "metadata": {},
     "output_type": "display_data"
    }
   ],
   "source": [
    "plt.figure(figsize=(10,10))\n",
    "sns.heatmap(confusion_matrix(y_valid, y_pred), linewidths=0.1, square=True, annot=True, cmap='summer', fmt='3.0f')\n",
    "plt.title('Confusion Matrix')\n",
    "plt.xlabel('Predicted')\n",
    "plt.ylabel('Actual')"
   ]
  },
  {
   "cell_type": "markdown",
   "id": "e5ea50f7",
   "metadata": {},
   "source": [
    "Неверно классифицировано только 7 наблюдений, причем из тех, у кого в реальности случился приступ, только 2х из них мы предсказали не верно. В реальной задаче следовало бы использовать f beta score, увеличивая значимость полноты, чтобы постараться определить эти 2 наблюдения, при этом ухудшив точность."
   ]
  },
  {
   "cell_type": "code",
   "execution_count": null,
   "id": "cb79837b",
   "metadata": {},
   "outputs": [],
   "source": []
  }
 ],
 "metadata": {
  "kernelspec": {
   "display_name": "Python 3 (ipykernel)",
   "language": "python",
   "name": "python3"
  },
  "language_info": {
   "codemirror_mode": {
    "name": "ipython",
    "version": 3
   },
   "file_extension": ".py",
   "mimetype": "text/x-python",
   "name": "python",
   "nbconvert_exporter": "python",
   "pygments_lexer": "ipython3",
   "version": "3.9.7"
  },
  "toc": {
   "base_numbering": 1,
   "nav_menu": {},
   "number_sections": true,
   "sideBar": true,
   "skip_h1_title": false,
   "title_cell": "Table of Contents",
   "title_sidebar": "Contents",
   "toc_cell": false,
   "toc_position": {
    "height": "calc(100% - 180px)",
    "left": "10px",
    "top": "150px",
    "width": "384px"
   },
   "toc_section_display": true,
   "toc_window_display": true
  }
 },
 "nbformat": 4,
 "nbformat_minor": 5
}
